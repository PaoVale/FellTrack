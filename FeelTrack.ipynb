{
  "nbformat": 4,
  "nbformat_minor": 0,
  "metadata": {
    "colab": {
      "provenance": [],
      "include_colab_link": true
    },
    "kernelspec": {
      "name": "python3",
      "display_name": "Python 3"
    },
    "language_info": {
      "name": "python"
    }
  },
  "cells": [
    {
      "cell_type": "markdown",
      "metadata": {
        "id": "view-in-github",
        "colab_type": "text"
      },
      "source": [
        "<a href=\"https://colab.research.google.com/github/PaoVale/FellTrack/blob/main/FeelTrack.ipynb\" target=\"_parent\"><img src=\"https://colab.research.google.com/assets/colab-badge.svg\" alt=\"Open In Colab\"/></a>"
      ]
    },
    {
      "cell_type": "markdown",
      "source": [
        "# Setup"
      ],
      "metadata": {
        "id": "JT5o7bm5gmyF"
      }
    },
    {
      "cell_type": "code",
      "source": [
        "# Setup and Import Libraries\n",
        "import re\n",
        "import nltk\n",
        "import numpy as np\n",
        "import pandas as pd\n",
        "import seaborn as sns\n",
        "import matplotlib.pyplot as plt\n",
        "\n",
        "from sklearn.metrics import accuracy_score, classification_report, confusion_matrix\n",
        "\n",
        "# Download nltk duct utils\n",
        "nltk.data.path.append('/usr/share/nltk_data')\n",
        "nltk.download('stopwords', '/usr/share/nltk_data')\n",
        "nltk.download('wordnet', '/usr/share/nltk_data')\n",
        "nltk.download('punkt', '/usr/share/nltk_data')\n",
        "nltk.download('punkt_tab', download_dir='/usr/share/nltk_data')\n",
        "!yes | unzip -q /usr/share/nltk_data/corpora/wordnet.zip -d /usr/share/nltk_data/corpora/\n",
        "\n",
        "# Setting the style for seaborn\n",
        "sns.set(style='whitegrid')\n",
        "\n",
        "# To suppress warnings\n",
        "%matplotlib inline\n",
        "import warnings\n",
        "warnings.filterwarnings('ignore')\n",
        "\n",
        "# Set verbosity during model trainig\n",
        "verbose = True"
      ],
      "metadata": {
        "id": "ZXiRlFfDZx4G",
        "trusted": true,
        "execution": {
          "iopub.status.busy": "2025-02-04T22:28:15.897016Z",
          "iopub.execute_input": "2025-02-04T22:28:15.897535Z",
          "iopub.status.idle": "2025-02-04T22:28:16.493364Z",
          "shell.execute_reply.started": "2025-02-04T22:28:15.897502Z",
          "shell.execute_reply": "2025-02-04T22:28:16.491970Z"
        }
      },
      "outputs": [],
      "execution_count": null
    },
    {
      "cell_type": "markdown",
      "source": [
        "# Dataset"
      ],
      "metadata": {
        "id": "Lvw536GCgmyI"
      }
    },
    {
      "cell_type": "markdown",
      "source": [
        "### Dataset Loading"
      ],
      "metadata": {
        "id": "tKwOqdw-gmyI"
      }
    },
    {
      "cell_type": "code",
      "source": [
        "# Load training dataset part 1\n",
        "train_pt1 = pd.read_csv('Train.csv')\n",
        "\n",
        "# Drop not used columns\n",
        "train_pt1 = train_pt1.drop(columns=['Id'], axis=1)\n",
        "\n",
        "# Load training dataset part 1\n",
        "train_pt2 = pd.read_csv('Twitter_Data.csv')\n",
        "\n",
        "# Rename columns\n",
        "train_pt2 = train_pt2.rename(columns={\"clean_text\": \"Body\", \"category\": \"Sentiment Type\"})\n",
        "\n",
        "# Replace values to match lables of part 1\n",
        "train_pt2 = train_pt2.replace(-1, \"negative\")\n",
        "train_pt2 = train_pt2.replace(0, \"neutral\")\n",
        "train_pt2 = train_pt2.replace(1, \"positive\")\n",
        "\n",
        "# Concat the two parts to get the final training set\n",
        "train = pd.concat([train_pt1, train_pt2], ignore_index=True, sort=False).reset_index(drop=True)\n",
        "\n",
        "\n",
        "# Load test dataset\n",
        "test  = pd.read_csv('synthetic_social_media_data.csv')"
      ],
      "metadata": {
        "id": "nkJiCpKLZ7p8",
        "trusted": true,
        "execution": {
          "iopub.status.busy": "2025-02-04T22:28:16.495630Z",
          "iopub.execute_input": "2025-02-04T22:28:16.496098Z",
          "iopub.status.idle": "2025-02-04T22:28:17.282369Z",
          "shell.execute_reply.started": "2025-02-04T22:28:16.496047Z",
          "shell.execute_reply": "2025-02-04T22:28:17.281279Z"
        }
      },
      "outputs": [],
      "execution_count": null
    },
    {
      "cell_type": "code",
      "source": [
        "# Display first few rows of training set\n",
        "print(\"Training Dataset:\")\n",
        "print(train.head())"
      ],
      "metadata": {
        "id": "X_FXt1roalc5",
        "trusted": true,
        "execution": {
          "iopub.status.busy": "2025-02-04T22:28:17.284689Z",
          "iopub.execute_input": "2025-02-04T22:28:17.285143Z",
          "iopub.status.idle": "2025-02-04T22:28:17.294288Z",
          "shell.execute_reply.started": "2025-02-04T22:28:17.285097Z",
          "shell.execute_reply": "2025-02-04T22:28:17.293038Z"
        }
      },
      "outputs": [],
      "execution_count": null
    },
    {
      "cell_type": "code",
      "source": [
        "# Display first few rows of test set\n",
        "print(\"\\nTest Dataset:\")\n",
        "print(test.head())"
      ],
      "metadata": {
        "trusted": true,
        "execution": {
          "iopub.status.busy": "2025-02-04T22:28:17.295829Z",
          "iopub.execute_input": "2025-02-04T22:28:17.296184Z",
          "iopub.status.idle": "2025-02-04T22:28:17.316802Z",
          "shell.execute_reply.started": "2025-02-04T22:28:17.296156Z",
          "shell.execute_reply": "2025-02-04T22:28:17.315470Z"
        },
        "id": "FWIrBZp_gmyJ"
      },
      "outputs": [],
      "execution_count": null
    },
    {
      "cell_type": "code",
      "source": [
        "# Missing Values in Training Dataset\n",
        "train.isnull().sum()"
      ],
      "metadata": {
        "id": "yZ2Fbp89apB4",
        "trusted": true,
        "execution": {
          "iopub.status.busy": "2025-02-04T22:28:17.318220Z",
          "iopub.execute_input": "2025-02-04T22:28:17.318658Z",
          "iopub.status.idle": "2025-02-04T22:28:17.363949Z",
          "shell.execute_reply.started": "2025-02-04T22:28:17.318625Z",
          "shell.execute_reply": "2025-02-04T22:28:17.362773Z"
        }
      },
      "outputs": [],
      "execution_count": null
    },
    {
      "cell_type": "code",
      "source": [
        "# Class distribution\n",
        "train['Sentiment Type'].value_counts()"
      ],
      "metadata": {
        "id": "PvxDN6f6ask1",
        "trusted": true,
        "execution": {
          "iopub.status.busy": "2025-02-04T22:28:17.365217Z",
          "iopub.execute_input": "2025-02-04T22:28:17.365551Z",
          "iopub.status.idle": "2025-02-04T22:28:17.395592Z",
          "shell.execute_reply.started": "2025-02-04T22:28:17.365517Z",
          "shell.execute_reply": "2025-02-04T22:28:17.394611Z"
        }
      },
      "outputs": [],
      "execution_count": null
    },
    {
      "cell_type": "markdown",
      "source": [
        "## Dataset Preprocessing"
      ],
      "metadata": {
        "id": "Qsej8noxgmyK"
      }
    },
    {
      "cell_type": "code",
      "source": [
        "# Drop rows where any column has missing values\n",
        "train = train.dropna()\n",
        "test = test.dropna()"
      ],
      "metadata": {
        "id": "_s_fhcMdaxnP",
        "trusted": true,
        "execution": {
          "iopub.status.busy": "2025-02-04T22:28:17.396796Z",
          "iopub.execute_input": "2025-02-04T22:28:17.397276Z",
          "iopub.status.idle": "2025-02-04T22:28:17.450796Z",
          "shell.execute_reply.started": "2025-02-04T22:28:17.397231Z",
          "shell.execute_reply": "2025-02-04T22:28:17.449509Z"
        }
      },
      "outputs": [],
      "execution_count": null
    },
    {
      "cell_type": "code",
      "source": [
        "# Plotting class distribution\n",
        "plt.figure(figsize=(6, 4))\n",
        "sns.countplot(data=train, x='Sentiment Type', palette='viridis')\n",
        "plt.title('Sentiment Type Distribution')\n",
        "plt.xlabel('Sentiment Type')\n",
        "plt.ylabel('Count')\n",
        "plt.show()"
      ],
      "metadata": {
        "id": "yZbnJjBqau2t",
        "trusted": true,
        "execution": {
          "iopub.status.busy": "2025-02-04T22:28:17.453465Z",
          "iopub.execute_input": "2025-02-04T22:28:17.453833Z",
          "iopub.status.idle": "2025-02-04T22:28:17.757625Z",
          "shell.execute_reply.started": "2025-02-04T22:28:17.453803Z",
          "shell.execute_reply": "2025-02-04T22:28:17.756507Z"
        }
      },
      "outputs": [],
      "execution_count": null
    },
    {
      "cell_type": "code",
      "source": [
        "# Remove contractions\n",
        "def contractions(s):\n",
        "    s = re.sub(r\"won't\", \"will not\", s, flags=re.IGNORECASE)\n",
        "    s = re.sub(r\"wouldn't\", \"would not\", s, flags=re.IGNORECASE)\n",
        "    s = re.sub(r\"couldn't\", \"could not\", s, flags=re.IGNORECASE)\n",
        "    s = re.sub(r\"\\’d\", \" would\", s, flags=re.IGNORECASE)\n",
        "    s = re.sub(r\"can't\", \"can not\", s, flags=re.IGNORECASE)\n",
        "    s = re.sub(r\"n’t\", \" not\", s, flags=re.IGNORECASE)\n",
        "    s = re.sub(r\"\\’re\", \" are\", s, flags=re.IGNORECASE)\n",
        "    s = re.sub(r\"\\’s\", \" is\", s, flags=re.IGNORECASE)\n",
        "    s = re.sub(r\"\\’ll\", \" will\", s, flags=re.IGNORECASE)\n",
        "    s = re.sub(r\"\\’t\", \" not\", s, flags=re.IGNORECASE)\n",
        "    s = re.sub(r\"\\’ve\", \" have\", s, flags=re.IGNORECASE)\n",
        "    s = re.sub(r\"\\’m\", \" am\", s, flags=re.IGNORECASE)\n",
        "    return s\n",
        "\n",
        "# Apply the function\n",
        "train['Body'] = train['Body'].apply(lambda x: contractions(x))\n",
        "test['Post Content'] = test['Post Content'].apply(lambda x: contractions(x))"
      ],
      "metadata": {
        "trusted": true,
        "execution": {
          "iopub.status.busy": "2025-02-04T22:28:17.759297Z",
          "iopub.execute_input": "2025-02-04T22:28:17.759637Z",
          "iopub.status.idle": "2025-02-04T22:28:21.579723Z",
          "shell.execute_reply.started": "2025-02-04T22:28:17.759609Z",
          "shell.execute_reply": "2025-02-04T22:28:21.578747Z"
        },
        "id": "qykyIg_fgmyL"
      },
      "outputs": [],
      "execution_count": null
    },
    {
      "cell_type": "code",
      "source": [
        "# Remove non-alpha characters\n",
        "train['Body'] = train['Body'].apply(lambda x: \" \".join([re.sub('[^A-Za-z]+','', x) for x in nltk.word_tokenize(x)]))\n",
        "test['Post Content'] = test['Post Content'].apply(lambda x: \" \".join([re.sub('[^A-Za-z]+','', x) for x in nltk.word_tokenize(x)]))"
      ],
      "metadata": {
        "trusted": true,
        "execution": {
          "iopub.status.busy": "2025-02-04T22:28:21.580744Z",
          "iopub.execute_input": "2025-02-04T22:28:21.581130Z",
          "iopub.status.idle": "2025-02-04T22:28:51.577964Z",
          "shell.execute_reply.started": "2025-02-04T22:28:21.581082Z",
          "shell.execute_reply": "2025-02-04T22:28:51.576661Z"
        },
        "id": "vYE_ID2ugmyL"
      },
      "outputs": [],
      "execution_count": null
    },
    {
      "cell_type": "code",
      "source": [
        "# Remove the extra spaces between the words\n",
        "train['Body'] = train['Body'].apply(lambda x: re.sub(' +', ' ', x))\n",
        "test['Post Content'] = test['Post Content'].apply(lambda x: re.sub(' +', ' ', x))"
      ],
      "metadata": {
        "trusted": true,
        "execution": {
          "iopub.status.busy": "2025-02-04T22:28:51.579189Z",
          "iopub.execute_input": "2025-02-04T22:28:51.579541Z",
          "iopub.status.idle": "2025-02-04T22:28:52.918292Z",
          "shell.execute_reply.started": "2025-02-04T22:28:51.579511Z",
          "shell.execute_reply": "2025-02-04T22:28:52.917149Z"
        },
        "id": "XT2OU6-OgmyM"
      },
      "outputs": [],
      "execution_count": null
    },
    {
      "cell_type": "code",
      "source": [
        "# Remove the stop words by using the NLTK package\n",
        "from nltk.corpus import stopwords\n",
        "\n",
        "stop = stopwords.words('english')\n",
        "train['Body'] = train['Body'].apply(lambda x: \" \".join([x for x in x.split() if x not in stop]))\n",
        "test['Post Content'] = test['Post Content'].apply(lambda x: \" \".join([x for x in x.split() if x not in stop]))"
      ],
      "metadata": {
        "trusted": true,
        "execution": {
          "iopub.status.busy": "2025-02-04T22:28:52.919412Z",
          "iopub.execute_input": "2025-02-04T22:28:52.919782Z",
          "iopub.status.idle": "2025-02-04T22:29:00.950698Z",
          "shell.execute_reply.started": "2025-02-04T22:28:52.919738Z",
          "shell.execute_reply": "2025-02-04T22:29:00.949332Z"
        },
        "id": "tR49G14RgmyM"
      },
      "outputs": [],
      "execution_count": null
    },
    {
      "cell_type": "code",
      "source": [
        "# Perform lemmatization using the wordnet lemmatizer\n",
        "from nltk.stem import WordNetLemmatizer\n",
        "\n",
        "lemmatizer = WordNetLemmatizer()\n",
        "train['Body'] = train['Body'].apply(lambda x: \" \".join([lemmatizer.lemmatize(w) for w in nltk.word_tokenize(x)]))\n",
        "test['Post Content'] = test['Post Content'].apply(lambda x: \" \".join([lemmatizer.lemmatize(w) for w in nltk.word_tokenize(x)]))"
      ],
      "metadata": {
        "trusted": true,
        "execution": {
          "iopub.status.busy": "2025-02-04T22:29:00.951559Z",
          "iopub.execute_input": "2025-02-04T22:29:00.951898Z",
          "iopub.status.idle": "2025-02-04T22:29:34.462538Z",
          "shell.execute_reply.started": "2025-02-04T22:29:00.951867Z",
          "shell.execute_reply": "2025-02-04T22:29:34.460925Z"
        },
        "id": "JLmQS-7bgmyM"
      },
      "outputs": [],
      "execution_count": null
    },
    {
      "cell_type": "code",
      "source": [
        "# Dividi il dataset in training e test set\n",
        "from sklearn.model_selection import train_test_split\n",
        "\n",
        "X = train['Body']\n",
        "y = train['Sentiment Type']\n",
        "\n",
        "# Dividiamo i dati in training e test set (80% training, 20% test)\n",
        "X_train, X_test, y_train, y_test = train_test_split(X, y, test_size=0.2, random_state=42, shuffle=True)"
      ],
      "metadata": {
        "trusted": true,
        "execution": {
          "iopub.status.busy": "2025-02-04T22:29:34.463780Z",
          "iopub.execute_input": "2025-02-04T22:29:34.464120Z",
          "iopub.status.idle": "2025-02-04T22:29:34.562340Z",
          "shell.execute_reply.started": "2025-02-04T22:29:34.464089Z",
          "shell.execute_reply": "2025-02-04T22:29:34.561104Z"
        },
        "id": "LOMdA0ZRgmyM"
      },
      "outputs": [],
      "execution_count": null
    },
    {
      "cell_type": "code",
      "source": [
        "# Feature Extraction using TF-IDF\n",
        "from sklearn.feature_extraction.text import TfidfVectorizer\n",
        "\n",
        "# Init the TfidfVectorizer\n",
        "tfidf_vectorizer = TfidfVectorizer(max_features=6000, ngram_range=(1, 2))\n",
        "\n",
        "# Apply TF-IDF to vectorize the text\n",
        "X_train_tfidf = tfidf_vectorizer.fit_transform(X_train)\n",
        "X_test_tfidf = tfidf_vectorizer.transform(X_test)\n",
        "\n",
        "print(\"\\nShape of X_train_tfidf:\", X_train_tfidf.shape)\n",
        "print(\"Shape of X_test_tfidf:\", X_test_tfidf.shape)"
      ],
      "metadata": {
        "id": "pTo1s8_-R0lx",
        "trusted": true,
        "execution": {
          "iopub.status.busy": "2025-02-04T22:29:34.563677Z",
          "iopub.execute_input": "2025-02-04T22:29:34.564001Z",
          "iopub.status.idle": "2025-02-04T22:29:45.494446Z",
          "shell.execute_reply.started": "2025-02-04T22:29:34.563971Z",
          "shell.execute_reply": "2025-02-04T22:29:45.493262Z"
        }
      },
      "outputs": [],
      "execution_count": null
    },
    {
      "cell_type": "markdown",
      "source": [
        "# Models Training"
      ],
      "metadata": {
        "id": "xpNcn1gvgmyM"
      }
    },
    {
      "cell_type": "markdown",
      "source": [
        "### Class Weights"
      ],
      "metadata": {
        "id": "bquYN-6ZgmyN"
      }
    },
    {
      "cell_type": "code",
      "source": [
        "# Compute class weight to contrast class imbalance\n",
        "from sklearn.utils.class_weight import compute_class_weight\n",
        "\n",
        "classes = np.unique(y_train)\n",
        "class_weight = compute_class_weight(class_weight='balanced', classes=classes, y=y_train)\n",
        "class_weight = {label: weight for label, weight in zip(classes, class_weight)}\n",
        "\n",
        "print(\"Class Weight\")\n",
        "print(class_weight)"
      ],
      "metadata": {
        "trusted": true,
        "execution": {
          "iopub.status.busy": "2025-02-04T22:29:45.495638Z",
          "iopub.execute_input": "2025-02-04T22:29:45.495986Z",
          "iopub.status.idle": "2025-02-04T22:29:45.616461Z",
          "shell.execute_reply.started": "2025-02-04T22:29:45.495957Z",
          "shell.execute_reply": "2025-02-04T22:29:45.614989Z"
        },
        "id": "LhiC8uC1gmyN"
      },
      "outputs": [],
      "execution_count": null
    },
    {
      "cell_type": "markdown",
      "source": [
        "### Logistic Regression"
      ],
      "metadata": {
        "id": "QMxu19T-Q4bx"
      }
    },
    {
      "cell_type": "code",
      "source": [
        "# Importing the LogisticRegression class\n",
        "from sklearn.linear_model import LogisticRegression\n",
        "\n",
        "# Logistic Regression\n",
        "logistic_model = LogisticRegression(max_iter=1000, class_weight=class_weight, n_jobs=-1, random_state=42, verbose=verbose)\n",
        "\n",
        "# Fit the model on training data\n",
        "logistic_model.fit(X_train_tfidf, y_train)\n",
        "\n",
        "# Predict on test data\n",
        "y_test_pred_logistic = logistic_model.predict(X_test_tfidf)\n",
        "\n",
        "# Logistic Regression Results\n",
        "print(\"\\n[Logistic Regression]\")\n",
        "print(\"Test Accuracy:\", accuracy_score(y_test, y_test_pred_logistic))\n",
        "print(\"Classification Report:\\n\", classification_report(y_test, y_test_pred_logistic))\n",
        "\n",
        "# Show the heatmap\n",
        "sns.heatmap(confusion_matrix(y_test, y_test_pred_logistic), annot=True, fmt='d', cmap='Blues')\n",
        "plt.title(\"Confusion Matrix - Logistic Regression\")\n",
        "plt.show()"
      ],
      "metadata": {
        "id": "EDoao8mWbDAs",
        "trusted": true,
        "execution": {
          "iopub.status.busy": "2025-02-04T22:29:45.617419Z",
          "iopub.execute_input": "2025-02-04T22:29:45.617780Z",
          "iopub.status.idle": "2025-02-04T22:30:03.446242Z",
          "shell.execute_reply.started": "2025-02-04T22:29:45.617751Z",
          "shell.execute_reply": "2025-02-04T22:30:03.444617Z"
        }
      },
      "outputs": [],
      "execution_count": null
    },
    {
      "cell_type": "markdown",
      "source": [
        "### Random Forest"
      ],
      "metadata": {
        "id": "tv6zvmBxQ_DF"
      }
    },
    {
      "cell_type": "code",
      "source": [
        "# Importing the RandomForestClassifier class\n",
        "from sklearn.ensemble import RandomForestClassifier\n",
        "\n",
        "# Random Forest\n",
        "rf_model = RandomForestClassifier(n_estimators=256, max_depth=96, class_weight=class_weight, n_jobs=-1, random_state=42, verbose=verbose)\n",
        "\n",
        "# Fit the model on training data\n",
        "rf_model.fit(X_train_tfidf, y_train)\n",
        "\n",
        "# Predict on test data\n",
        "y_test_pred_rf = rf_model.predict(X_test_tfidf)\n",
        "\n",
        "# Random Forest Results\n",
        "print(\"\\n[Random Forest]\")\n",
        "print(\"Test Accuracy:\", accuracy_score(y_test, y_test_pred_rf))\n",
        "print(\"Classification Report (Test Data):\\n\", classification_report(y_test, y_test_pred_rf))\n",
        "\n",
        "# Show the heatmap\n",
        "sns.heatmap(confusion_matrix(y_test, y_test_pred_rf), annot=True, fmt='d', cmap='Greens')\n",
        "plt.title(\"Confusion Matrix - Random Forest (Test Data)\")\n",
        "plt.show()"
      ],
      "metadata": {
        "id": "1S_oOJ_gOyhe",
        "trusted": true,
        "execution": {
          "iopub.status.busy": "2025-02-04T22:30:03.448227Z",
          "iopub.execute_input": "2025-02-04T22:30:03.448849Z",
          "iopub.status.idle": "2025-02-04T22:32:03.766172Z",
          "shell.execute_reply.started": "2025-02-04T22:30:03.448790Z",
          "shell.execute_reply": "2025-02-04T22:32:03.764989Z"
        }
      },
      "outputs": [],
      "execution_count": null
    },
    {
      "cell_type": "markdown",
      "source": [
        "### SVC"
      ],
      "metadata": {
        "id": "XHUbFFYBpKXI"
      }
    },
    {
      "cell_type": "code",
      "source": [
        "# Importing the LinearSVC class\n",
        "from sklearn.svm import LinearSVC\n",
        "\n",
        "# SVC with a Linear kernel (SVC(kernel=\"linear\"))\n",
        "svm_model = LinearSVC(max_iter=1000, tol=0.001, class_weight=class_weight, random_state=42, verbose=verbose)\n",
        "\n",
        "# Fit the model on training data\n",
        "svm_model.fit(X_train_tfidf, y_train)\n",
        "\n",
        "# Predict on test data\n",
        "y_pred_svm = svm_model.predict(X_test_tfidf)\n",
        "\n",
        "# SVM Results\n",
        "print(\"\\n[SVM]\")\n",
        "print(\"Test Accuracy:\", accuracy_score(y_test, y_pred_svm))\n",
        "print(\"Classification Report: \\n\", classification_report(y_test, y_pred_svm))\n",
        "\n",
        "# Show the heatmap\n",
        "sns.heatmap(confusion_matrix(y_test, y_pred_svm), annot=True, fmt='d', cmap='Blues')\n",
        "plt.title(\"Confusion Matrix SVM\")\n",
        "plt.show()"
      ],
      "metadata": {
        "id": "Oy4a5CsupSL1",
        "trusted": true,
        "execution": {
          "iopub.status.busy": "2025-02-04T22:32:03.767402Z",
          "iopub.execute_input": "2025-02-04T22:32:03.767830Z",
          "iopub.status.idle": "2025-02-04T22:32:10.549587Z",
          "shell.execute_reply.started": "2025-02-04T22:32:03.767795Z",
          "shell.execute_reply": "2025-02-04T22:32:10.548466Z"
        }
      },
      "outputs": [],
      "execution_count": null
    },
    {
      "cell_type": "markdown",
      "source": [],
      "metadata": {
        "id": "Ui6GeTydrncm"
      }
    },
    {
      "cell_type": "markdown",
      "source": [
        "## Dataset Preprocessing"
      ],
      "metadata": {
        "id": "NHHH-Rogrn7q"
      }
    },
    {
      "cell_type": "code",
      "source": [
        "# Drop rows where any column has missing values\n",
        "train = train.dropna()\n",
        "test = test.dropna()"
      ],
      "metadata": {
        "trusted": true,
        "execution": {
          "iopub.status.busy": "2025-02-04T22:28:17.396796Z",
          "iopub.execute_input": "2025-02-04T22:28:17.397276Z",
          "iopub.status.idle": "2025-02-04T22:28:17.450796Z",
          "shell.execute_reply.started": "2025-02-04T22:28:17.397231Z",
          "shell.execute_reply": "2025-02-04T22:28:17.449509Z"
        },
        "id": "-juYevwbrn7q"
      },
      "outputs": [],
      "execution_count": null
    },
    {
      "cell_type": "code",
      "source": [
        "# Plotting class distribution\n",
        "plt.figure(figsize=(6, 4))\n",
        "sns.countplot(data=train, x='Sentiment Type', palette='viridis')\n",
        "plt.title('Sentiment Type Distribution')\n",
        "plt.xlabel('Sentiment Type')\n",
        "plt.ylabel('Count')\n",
        "plt.show()"
      ],
      "metadata": {
        "colab": {
          "base_uri": "https://localhost:8080/",
          "height": 419
        },
        "outputId": "f1c97c16-0d8d-4984-9c0e-04a1c2c7f300",
        "trusted": true,
        "execution": {
          "iopub.status.busy": "2025-02-04T22:28:17.453465Z",
          "iopub.execute_input": "2025-02-04T22:28:17.453833Z",
          "iopub.status.idle": "2025-02-04T22:28:17.757625Z",
          "shell.execute_reply.started": "2025-02-04T22:28:17.453803Z",
          "shell.execute_reply": "2025-02-04T22:28:17.756507Z"
        },
        "id": "SbHTEvwUrn7r"
      },
      "outputs": [
        {
          "output_type": "display_data",
          "data": {
            "text/plain": [
              "<Figure size 600x400 with 1 Axes>"
            ],
            "image/png": "[encoded data removed]"
          },
          "metadata": {}
        }
      ],
      "execution_count": null
    },
    {
      "cell_type": "code",
      "source": [
        "# Remove contractions\n",
        "def contractions(s):\n",
        "    s = re.sub(r\"won't\", \"will not\", s, flags=re.IGNORECASE)\n",
        "    s = re.sub(r\"wouldn't\", \"would not\", s, flags=re.IGNORECASE)\n",
        "    s = re.sub(r\"couldn't\", \"could not\", s, flags=re.IGNORECASE)\n",
        "    s = re.sub(r\"\\’d\", \" would\", s, flags=re.IGNORECASE)\n",
        "    s = re.sub(r\"can't\", \"can not\", s, flags=re.IGNORECASE)\n",
        "    s = re.sub(r\"n’t\", \" not\", s, flags=re.IGNORECASE)\n",
        "    s = re.sub(r\"\\’re\", \" are\", s, flags=re.IGNORECASE)\n",
        "    s = re.sub(r\"\\’s\", \" is\", s, flags=re.IGNORECASE)\n",
        "    s = re.sub(r\"\\’ll\", \" will\", s, flags=re.IGNORECASE)\n",
        "    s = re.sub(r\"\\’t\", \" not\", s, flags=re.IGNORECASE)\n",
        "    s = re.sub(r\"\\’ve\", \" have\", s, flags=re.IGNORECASE)\n",
        "    s = re.sub(r\"\\’m\", \" am\", s, flags=re.IGNORECASE)\n",
        "    return s\n",
        "\n",
        "# Apply the function\n",
        "train['Body'] = train['Body'].apply(lambda x: contractions(x))\n",
        "test['Post Content'] = test['Post Content'].apply(lambda x: contractions(x))"
      ],
      "metadata": {
        "trusted": true,
        "execution": {
          "iopub.status.busy": "2025-02-04T22:28:17.759297Z",
          "iopub.execute_input": "2025-02-04T22:28:17.759637Z",
          "iopub.status.idle": "2025-02-04T22:28:21.579723Z",
          "shell.execute_reply.started": "2025-02-04T22:28:17.759609Z",
          "shell.execute_reply": "2025-02-04T22:28:21.578747Z"
        },
        "id": "SM5qzM0arn7r"
      },
      "outputs": [],
      "execution_count": null
    },
    {
      "cell_type": "code",
      "source": [
        "# Remove non-alpha characters\n",
        "train['Body'] = train['Body'].apply(lambda x: \" \".join([re.sub('[^A-Za-z]+','', x) for x in nltk.word_tokenize(x)]))\n",
        "test['Post Content'] = test['Post Content'].apply(lambda x: \" \".join([re.sub('[^A-Za-z]+','', x) for x in nltk.word_tokenize(x)]))"
      ],
      "metadata": {
        "trusted": true,
        "execution": {
          "iopub.status.busy": "2025-02-04T22:28:21.580744Z",
          "iopub.execute_input": "2025-02-04T22:28:21.581130Z",
          "iopub.status.idle": "2025-02-04T22:28:51.577964Z",
          "shell.execute_reply.started": "2025-02-04T22:28:21.581082Z",
          "shell.execute_reply": "2025-02-04T22:28:51.576661Z"
        },
        "id": "hB0EUCIRrn7s"
      },
      "outputs": [],
      "execution_count": null
    },
    {
      "cell_type": "code",
      "source": [
        "# Remove the extra spaces between the words\n",
        "train['Body'] = train['Body'].apply(lambda x: re.sub(' +', ' ', x))\n",
        "test['Post Content'] = test['Post Content'].apply(lambda x: re.sub(' +', ' ', x))"
      ],
      "metadata": {
        "trusted": true,
        "execution": {
          "iopub.status.busy": "2025-02-04T22:28:51.579189Z",
          "iopub.execute_input": "2025-02-04T22:28:51.579541Z",
          "iopub.status.idle": "2025-02-04T22:28:52.918292Z",
          "shell.execute_reply.started": "2025-02-04T22:28:51.579511Z",
          "shell.execute_reply": "2025-02-04T22:28:52.917149Z"
        },
        "id": "93rKI4xTrn7s"
      },
      "outputs": [],
      "execution_count": null
    },
    {
      "cell_type": "code",
      "source": [
        "# Remove the stop words by using the NLTK package\n",
        "from nltk.corpus import stopwords\n",
        "\n",
        "stop = stopwords.words('english')\n",
        "train['Body'] = train['Body'].apply(lambda x: \" \".join([x for x in x.split() if x not in stop]))\n",
        "test['Post Content'] = test['Post Content'].apply(lambda x: \" \".join([x for x in x.split() if x not in stop]))"
      ],
      "metadata": {
        "trusted": true,
        "execution": {
          "iopub.status.busy": "2025-02-04T22:28:52.919412Z",
          "iopub.execute_input": "2025-02-04T22:28:52.919782Z",
          "iopub.status.idle": "2025-02-04T22:29:00.950698Z",
          "shell.execute_reply.started": "2025-02-04T22:28:52.919738Z",
          "shell.execute_reply": "2025-02-04T22:29:00.949332Z"
        },
        "id": "DCCdlK1_rn7s"
      },
      "outputs": [],
      "execution_count": null
    },
    {
      "cell_type": "code",
      "source": [
        "# Perform lemmatization using the wordnet lemmatizer\n",
        "from nltk.stem import WordNetLemmatizer\n",
        "\n",
        "lemmatizer = WordNetLemmatizer()\n",
        "train['Body'] = train['Body'].apply(lambda x: \" \".join([lemmatizer.lemmatize(w) for w in nltk.word_tokenize(x)]))\n",
        "test['Post Content'] = test['Post Content'].apply(lambda x: \" \".join([lemmatizer.lemmatize(w) for w in nltk.word_tokenize(x)]))"
      ],
      "metadata": {
        "trusted": true,
        "execution": {
          "iopub.status.busy": "2025-02-04T22:29:00.951559Z",
          "iopub.execute_input": "2025-02-04T22:29:00.951898Z",
          "iopub.status.idle": "2025-02-04T22:29:34.462538Z",
          "shell.execute_reply.started": "2025-02-04T22:29:00.951867Z",
          "shell.execute_reply": "2025-02-04T22:29:34.460925Z"
        },
        "id": "3gy5iwy3rn7s"
      },
      "outputs": [],
      "execution_count": null
    },
    {
      "cell_type": "code",
      "source": [
        "# Dividi il dataset in training e test set\n",
        "from sklearn.model_selection import train_test_split\n",
        "\n",
        "X = train['Body']\n",
        "y = train['Sentiment Type']\n",
        "\n",
        "# Dividiamo i dati in training e test set (80% training, 20% test)\n",
        "X_train, X_test, y_train, y_test = train_test_split(X, y, test_size=0.2, random_state=42, shuffle=True)"
      ],
      "metadata": {
        "trusted": true,
        "execution": {
          "iopub.status.busy": "2025-02-04T22:29:34.463780Z",
          "iopub.execute_input": "2025-02-04T22:29:34.464120Z",
          "iopub.status.idle": "2025-02-04T22:29:34.562340Z",
          "shell.execute_reply.started": "2025-02-04T22:29:34.464089Z",
          "shell.execute_reply": "2025-02-04T22:29:34.561104Z"
        },
        "id": "Eb6JrYrGrn7s"
      },
      "outputs": [],
      "execution_count": null
    },
    {
      "cell_type": "code",
      "source": [
        "# Feature Extraction using TF-IDF\n",
        "from sklearn.feature_extraction.text import TfidfVectorizer\n",
        "\n",
        "# Init the TfidfVectorizer\n",
        "tfidf_vectorizer = TfidfVectorizer(max_features=6000, ngram_range=(1, 2))\n",
        "\n",
        "# Apply TF-IDF to vectorize the text\n",
        "X_train_tfidf = tfidf_vectorizer.fit_transform(X_train)\n",
        "X_test_tfidf = tfidf_vectorizer.transform(X_test)\n",
        "\n",
        "print(\"\\nShape of X_train_tfidf:\", X_train_tfidf.shape)\n",
        "print(\"Shape of X_test_tfidf:\", X_test_tfidf.shape)"
      ],
      "metadata": {
        "colab": {
          "base_uri": "https://localhost:8080/"
        },
        "outputId": "023b6dda-cb92-49b8-e267-7bcdc60ec15a",
        "trusted": true,
        "execution": {
          "iopub.status.busy": "2025-02-04T22:29:34.563677Z",
          "iopub.execute_input": "2025-02-04T22:29:34.564001Z",
          "iopub.status.idle": "2025-02-04T22:29:45.494446Z",
          "shell.execute_reply.started": "2025-02-04T22:29:34.563971Z",
          "shell.execute_reply": "2025-02-04T22:29:45.493262Z"
        },
        "id": "BDbOmWFjrn7s"
      },
      "outputs": [
        {
          "output_type": "stream",
          "name": "stdout",
          "text": [
            "\n",
            "Shape of X_train_tfidf: (131792, 6000)\n",
            "Shape of X_test_tfidf: (32949, 6000)\n"
          ]
        }
      ],
      "execution_count": null
    },
    {
      "cell_type": "markdown",
      "source": [
        "### Random Forest"
      ],
      "metadata": {
        "id": "kv3t1ZhYrn7t"
      }
    },
    {
      "cell_type": "code",
      "source": [
        "# Importing the RandomForestClassifier class\n",
        "from sklearn.ensemble import RandomForestClassifier\n",
        "\n",
        "# Random Forest\n",
        "rf_model = RandomForestClassifier(n_estimators=256, max_depth=96, class_weight=class_weight, n_jobs=-1, random_state=42, verbose=verbose)\n",
        "\n",
        "# Fit the model on training data\n",
        "rf_model.fit(X_train_tfidf, y_train)\n",
        "\n",
        "# Predict on test data\n",
        "y_test_pred_rf = rf_model.predict(X_test_tfidf)\n",
        "\n",
        "# Random Forest Results\n",
        "print(\"\\n[Random Forest]\")\n",
        "print(\"Test Accuracy:\", accuracy_score(y_test, y_test_pred_rf))\n",
        "print(\"Classification Report (Test Data):\\n\", classification_report(y_test, y_test_pred_rf))\n",
        "\n",
        "# Show the heatmap\n",
        "sns.heatmap(confusion_matrix(y_test, y_test_pred_rf), annot=True, fmt='d', cmap='Greens')\n",
        "plt.title(\"Confusion Matrix - Random Forest (Test Data)\")\n",
        "plt.show()"
      ],
      "metadata": {
        "colab": {
          "base_uri": "https://localhost:8080/",
          "height": 839
        },
        "outputId": "f9538bce-f883-4e30-8d36-d95f0e21b037",
        "trusted": true,
        "execution": {
          "iopub.status.busy": "2025-02-04T22:30:03.448227Z",
          "iopub.execute_input": "2025-02-04T22:30:03.448849Z",
          "iopub.status.idle": "2025-02-04T22:32:03.766172Z",
          "shell.execute_reply.started": "2025-02-04T22:30:03.448790Z",
          "shell.execute_reply": "2025-02-04T22:32:03.764989Z"
        },
        "id": "zmP0JMQNrn7t"
      },
      "outputs": [
        {
          "output_type": "stream",
          "name": "stderr",
          "text": [
            "[Parallel(n_jobs=-1)]: Using backend ThreadingBackend with 2 concurrent workers.\n",
            "[Parallel(n_jobs=-1)]: Done  46 tasks      | elapsed:   55.1s\n",
            "[Parallel(n_jobs=-1)]: Done 196 tasks      | elapsed:  4.0min\n",
            "[Parallel(n_jobs=-1)]: Done 256 out of 256 | elapsed:  5.3min finished\n",
            "[Parallel(n_jobs=2)]: Using backend ThreadingBackend with 2 concurrent workers.\n",
            "[Parallel(n_jobs=2)]: Done  46 tasks      | elapsed:    0.5s\n",
            "[Parallel(n_jobs=2)]: Done 196 tasks      | elapsed:    2.9s\n",
            "[Parallel(n_jobs=2)]: Done 256 out of 256 | elapsed:    3.8s finished\n"
          ]
        },
        {
          "output_type": "stream",
          "name": "stdout",
          "text": [
            "\n",
            "[Random Forest]\n",
            "Test Accuracy: 0.7986888828189019\n",
            "Classification Report (Test Data):\n",
            "               precision    recall  f1-score   support\n",
            "\n",
            "    negative       0.80      0.64      0.71      7070\n",
            "     neutral       0.72      0.96      0.82     11199\n",
            "    positive       0.90      0.75      0.82     14680\n",
            "\n",
            "    accuracy                           0.80     32949\n",
            "   macro avg       0.81      0.78      0.78     32949\n",
            "weighted avg       0.82      0.80      0.80     32949\n",
            "\n"
          ]
        },
        {
          "output_type": "display_data",
          "data": {
            "text/plain": [
              "<Figure size 640x480 with 2 Axes>"
            ],
            "image/png": "[encoded data removed]"
          },
          "metadata": {}
        }
      ],
      "execution_count": null
    },
    {
      "cell_type": "markdown",
      "source": [
        "### MLP"
      ],
      "metadata": {
        "id": "3DwdwXhbTICc"
      }
    },
    {
      "cell_type": "code",
      "source": [
        "#errore#correggi\n",
        "# Importing the MLPClassifier class\n",
        "from sklearn.neural_network import MLPClassifier\n",
        "\n",
        "\n",
        "\n",
        "# MLP Classifier\n",
        "mlp_model = MLPClassifier(hidden_layer_sizes=256, max_iter=500, learning_rate_init=0.001, early_stopping=True, random_state=42, verbose=verbose)\n",
        "\n",
        "# Fit the model on training data\n",
        "mlp_model.fit(X_train_tfidf, y_train)\n",
        "\n",
        "# Predict on test data\n",
        "y_test_pred_mlp = mlp_model.predict(X_test_tfidf)\n",
        "\n",
        "# MLP Classifier Results\n",
        "print(\"\\n[MLP Classifier]\")\n",
        "print(\"Test Accuracy:\", accuracy_score(y_test, y_test_pred_mlp))\n",
        "print(\"Classification Report:\\n\", classification_report(y_test, y_test_pred_mlp))\n",
        "\n",
        "# Show the heatmap\n",
        "sns.heatmap(confusion_matrix(y_test, y_test_pred_mlp), annot=True, fmt='d', cmap='Blues')\n",
        "plt.title(\"Confusion Matrix - MLP Classifier\")\n",
        "plt.show()"
      ],
      "metadata": {
        "colab": {
          "base_uri": "https://localhost:8080/",
          "height": 374
        },
        "id": "SZOfIAAeyurh",
        "outputId": "1eb1073c-a08e-461c-e186-4e400b993d6d"
      },
      "execution_count": null,
      "outputs": [
        {
          "output_type": "stream",
          "name": "stdout",
          "text": [
            "Iteration 1, loss = 0.55613497\n"
          ]
        },
        {
          "output_type": "error",
          "ename": "TypeError",
          "evalue": "ufunc 'isnan' not supported for the input types, and the inputs could not be safely coerced to any supported types according to the casting rule ''safe''",
          "traceback": [
            "\u001b[0;31m---------------------------------------------------------------------------\u001b[0m",
            "\u001b[0;31mTypeError\u001b[0m                                 Traceback (most recent call last)",
            "\u001b[0;32m<ipython-input-48-1ed4ce51800f>\u001b[0m in \u001b[0;36m<cell line: 0>\u001b[0;34m()\u001b[0m\n\u001b[1;32m      8\u001b[0m \u001b[0;34m\u001b[0m\u001b[0m\n\u001b[1;32m      9\u001b[0m \u001b[0;31m# Fit the model on training data\u001b[0m\u001b[0;34m\u001b[0m\u001b[0;34m\u001b[0m\u001b[0m\n\u001b[0;32m---> 10\u001b[0;31m \u001b[0mmlp_model\u001b[0m\u001b[0;34m.\u001b[0m\u001b[0mfit\u001b[0m\u001b[0;34m(\u001b[0m\u001b[0mX_train_tfidf\u001b[0m\u001b[0;34m,\u001b[0m \u001b[0my_train\u001b[0m\u001b[0;34m)\u001b[0m\u001b[0;34m\u001b[0m\u001b[0;34m\u001b[0m\u001b[0m\n\u001b[0m\u001b[1;32m     11\u001b[0m \u001b[0;34m\u001b[0m\u001b[0m\n\u001b[1;32m     12\u001b[0m \u001b[0;31m# Predict on test data\u001b[0m\u001b[0;34m\u001b[0m\u001b[0;34m\u001b[0m\u001b[0m\n",
            "\u001b[0;32m/usr/local/lib/python3.11/dist-packages/sklearn/base.py\u001b[0m in \u001b[0;36mwrapper\u001b[0;34m(estimator, *args, **kwargs)\u001b[0m\n\u001b[1;32m   1387\u001b[0m                 )\n\u001b[1;32m   1388\u001b[0m             ):\n\u001b[0;32m-> 1389\u001b[0;31m                 \u001b[0;32mreturn\u001b[0m \u001b[0mfit_method\u001b[0m\u001b[0;34m(\u001b[0m\u001b[0mestimator\u001b[0m\u001b[0;34m,\u001b[0m \u001b[0;34m*\u001b[0m\u001b[0margs\u001b[0m\u001b[0;34m,\u001b[0m \u001b[0;34m**\u001b[0m\u001b[0mkwargs\u001b[0m\u001b[0;34m)\u001b[0m\u001b[0;34m\u001b[0m\u001b[0;34m\u001b[0m\u001b[0m\n\u001b[0m\u001b[1;32m   1390\u001b[0m \u001b[0;34m\u001b[0m\u001b[0m\n\u001b[1;32m   1391\u001b[0m         \u001b[0;32mreturn\u001b[0m \u001b[0mwrapper\u001b[0m\u001b[0;34m\u001b[0m\u001b[0;34m\u001b[0m\u001b[0m\n",
            "\u001b[0;32m/usr/local/lib/python3.11/dist-packages/sklearn/neural_network/_multilayer_perceptron.py\u001b[0m in \u001b[0;36mfit\u001b[0;34m(self, X, y)\u001b[0m\n\u001b[1;32m    752\u001b[0m             \u001b[0mReturns\u001b[0m \u001b[0ma\u001b[0m \u001b[0mtrained\u001b[0m \u001b[0mMLP\u001b[0m \u001b[0mmodel\u001b[0m\u001b[0;34m.\u001b[0m\u001b[0;34m\u001b[0m\u001b[0;34m\u001b[0m\u001b[0m\n\u001b[1;32m    753\u001b[0m         \"\"\"\n\u001b[0;32m--> 754\u001b[0;31m         \u001b[0;32mreturn\u001b[0m \u001b[0mself\u001b[0m\u001b[0;34m.\u001b[0m\u001b[0m_fit\u001b[0m\u001b[0;34m(\u001b[0m\u001b[0mX\u001b[0m\u001b[0;34m,\u001b[0m \u001b[0my\u001b[0m\u001b[0;34m,\u001b[0m \u001b[0mincremental\u001b[0m\u001b[0;34m=\u001b[0m\u001b[0;32mFalse\u001b[0m\u001b[0;34m)\u001b[0m\u001b[0;34m\u001b[0m\u001b[0;34m\u001b[0m\u001b[0m\n\u001b[0m\u001b[1;32m    755\u001b[0m \u001b[0;34m\u001b[0m\u001b[0m\n\u001b[1;32m    756\u001b[0m     \u001b[0;32mdef\u001b[0m \u001b[0m_check_solver\u001b[0m\u001b[0;34m(\u001b[0m\u001b[0mself\u001b[0m\u001b[0;34m)\u001b[0m\u001b[0;34m:\u001b[0m\u001b[0;34m\u001b[0m\u001b[0;34m\u001b[0m\u001b[0m\n",
            "\u001b[0;32m/usr/local/lib/python3.11/dist-packages/sklearn/neural_network/_multilayer_perceptron.py\u001b[0m in \u001b[0;36m_fit\u001b[0;34m(self, X, y, incremental)\u001b[0m\n\u001b[1;32m    474\u001b[0m         \u001b[0;31m# Run the Stochastic optimization solver\u001b[0m\u001b[0;34m\u001b[0m\u001b[0;34m\u001b[0m\u001b[0m\n\u001b[1;32m    475\u001b[0m         \u001b[0;32mif\u001b[0m \u001b[0mself\u001b[0m\u001b[0;34m.\u001b[0m\u001b[0msolver\u001b[0m \u001b[0;32min\u001b[0m \u001b[0m_STOCHASTIC_SOLVERS\u001b[0m\u001b[0;34m:\u001b[0m\u001b[0;34m\u001b[0m\u001b[0;34m\u001b[0m\u001b[0m\n\u001b[0;32m--> 476\u001b[0;31m             self._fit_stochastic(\n\u001b[0m\u001b[1;32m    477\u001b[0m                 \u001b[0mX\u001b[0m\u001b[0;34m,\u001b[0m\u001b[0;34m\u001b[0m\u001b[0;34m\u001b[0m\u001b[0m\n\u001b[1;32m    478\u001b[0m                 \u001b[0my\u001b[0m\u001b[0;34m,\u001b[0m\u001b[0;34m\u001b[0m\u001b[0;34m\u001b[0m\u001b[0m\n",
            "\u001b[0;32m/usr/local/lib/python3.11/dist-packages/sklearn/neural_network/_multilayer_perceptron.py\u001b[0m in \u001b[0;36m_fit_stochastic\u001b[0;34m(self, X, y, activations, deltas, coef_grads, intercept_grads, layer_units, incremental)\u001b[0m\n\u001b[1;32m    658\u001b[0m                 \u001b[0;31m# update no_improvement_count based on training loss or\u001b[0m\u001b[0;34m\u001b[0m\u001b[0;34m\u001b[0m\u001b[0m\n\u001b[1;32m    659\u001b[0m                 \u001b[0;31m# validation score according to early_stopping\u001b[0m\u001b[0;34m\u001b[0m\u001b[0;34m\u001b[0m\u001b[0m\n\u001b[0;32m--> 660\u001b[0;31m                 \u001b[0mself\u001b[0m\u001b[0;34m.\u001b[0m\u001b[0m_update_no_improvement_count\u001b[0m\u001b[0;34m(\u001b[0m\u001b[0mearly_stopping\u001b[0m\u001b[0;34m,\u001b[0m \u001b[0mX_val\u001b[0m\u001b[0;34m,\u001b[0m \u001b[0my_val\u001b[0m\u001b[0;34m)\u001b[0m\u001b[0;34m\u001b[0m\u001b[0;34m\u001b[0m\u001b[0m\n\u001b[0m\u001b[1;32m    661\u001b[0m \u001b[0;34m\u001b[0m\u001b[0m\n\u001b[1;32m    662\u001b[0m                 \u001b[0;31m# for learning rate that needs to be updated at iteration end\u001b[0m\u001b[0;34m\u001b[0m\u001b[0;34m\u001b[0m\u001b[0m\n",
            "\u001b[0;32m/usr/local/lib/python3.11/dist-packages/sklearn/neural_network/_multilayer_perceptron.py\u001b[0m in \u001b[0;36m_update_no_improvement_count\u001b[0;34m(self, early_stopping, X_val, y_val)\u001b[0m\n\u001b[1;32m    706\u001b[0m         \u001b[0;32mif\u001b[0m \u001b[0mearly_stopping\u001b[0m\u001b[0;34m:\u001b[0m\u001b[0;34m\u001b[0m\u001b[0;34m\u001b[0m\u001b[0m\n\u001b[1;32m    707\u001b[0m             \u001b[0;31m# compute validation score (can be NaN), use that for stopping\u001b[0m\u001b[0;34m\u001b[0m\u001b[0;34m\u001b[0m\u001b[0m\n\u001b[0;32m--> 708\u001b[0;31m             \u001b[0mval_score\u001b[0m \u001b[0;34m=\u001b[0m \u001b[0mself\u001b[0m\u001b[0;34m.\u001b[0m\u001b[0m_score\u001b[0m\u001b[0;34m(\u001b[0m\u001b[0mX_val\u001b[0m\u001b[0;34m,\u001b[0m \u001b[0my_val\u001b[0m\u001b[0;34m)\u001b[0m\u001b[0;34m\u001b[0m\u001b[0;34m\u001b[0m\u001b[0m\n\u001b[0m\u001b[1;32m    709\u001b[0m \u001b[0;34m\u001b[0m\u001b[0m\n\u001b[1;32m    710\u001b[0m             \u001b[0mself\u001b[0m\u001b[0;34m.\u001b[0m\u001b[0mvalidation_scores_\u001b[0m\u001b[0;34m.\u001b[0m\u001b[0mappend\u001b[0m\u001b[0;34m(\u001b[0m\u001b[0mval_score\u001b[0m\u001b[0;34m)\u001b[0m\u001b[0;34m\u001b[0m\u001b[0;34m\u001b[0m\u001b[0m\n",
            "\u001b[0;32m/usr/local/lib/python3.11/dist-packages/sklearn/neural_network/_multilayer_perceptron.py\u001b[0m in \u001b[0;36m_score\u001b[0;34m(self, X, y)\u001b[0m\n\u001b[1;32m   1192\u001b[0m \u001b[0;34m\u001b[0m\u001b[0m\n\u001b[1;32m   1193\u001b[0m     \u001b[0;32mdef\u001b[0m \u001b[0m_score\u001b[0m\u001b[0;34m(\u001b[0m\u001b[0mself\u001b[0m\u001b[0;34m,\u001b[0m \u001b[0mX\u001b[0m\u001b[0;34m,\u001b[0m \u001b[0my\u001b[0m\u001b[0;34m)\u001b[0m\u001b[0;34m:\u001b[0m\u001b[0;34m\u001b[0m\u001b[0;34m\u001b[0m\u001b[0m\n\u001b[0;32m-> 1194\u001b[0;31m         \u001b[0;32mreturn\u001b[0m \u001b[0msuper\u001b[0m\u001b[0;34m(\u001b[0m\u001b[0;34m)\u001b[0m\u001b[0;34m.\u001b[0m\u001b[0m_score_with_function\u001b[0m\u001b[0;34m(\u001b[0m\u001b[0mX\u001b[0m\u001b[0;34m,\u001b[0m \u001b[0my\u001b[0m\u001b[0;34m,\u001b[0m \u001b[0mscore_function\u001b[0m\u001b[0;34m=\u001b[0m\u001b[0maccuracy_score\u001b[0m\u001b[0;34m)\u001b[0m\u001b[0;34m\u001b[0m\u001b[0;34m\u001b[0m\u001b[0m\n\u001b[0m\u001b[1;32m   1195\u001b[0m \u001b[0;34m\u001b[0m\u001b[0m\n\u001b[1;32m   1196\u001b[0m     \u001b[0;34m@\u001b[0m\u001b[0mavailable_if\u001b[0m\u001b[0;34m(\u001b[0m\u001b[0;32mlambda\u001b[0m \u001b[0mest\u001b[0m\u001b[0;34m:\u001b[0m \u001b[0mest\u001b[0m\u001b[0;34m.\u001b[0m\u001b[0m_check_solver\u001b[0m\u001b[0;34m(\u001b[0m\u001b[0;34m)\u001b[0m\u001b[0;34m)\u001b[0m\u001b[0;34m\u001b[0m\u001b[0;34m\u001b[0m\u001b[0m\n",
            "\u001b[0;32m/usr/local/lib/python3.11/dist-packages/sklearn/neural_network/_multilayer_perceptron.py\u001b[0m in \u001b[0;36m_score_with_function\u001b[0;34m(self, X, y, score_function)\u001b[0m\n\u001b[1;32m    767\u001b[0m         \u001b[0my_pred\u001b[0m \u001b[0;34m=\u001b[0m \u001b[0mself\u001b[0m\u001b[0;34m.\u001b[0m\u001b[0m_predict\u001b[0m\u001b[0;34m(\u001b[0m\u001b[0mX\u001b[0m\u001b[0;34m,\u001b[0m \u001b[0mcheck_input\u001b[0m\u001b[0;34m=\u001b[0m\u001b[0;32mFalse\u001b[0m\u001b[0;34m)\u001b[0m\u001b[0;34m\u001b[0m\u001b[0;34m\u001b[0m\u001b[0m\n\u001b[1;32m    768\u001b[0m \u001b[0;34m\u001b[0m\u001b[0m\n\u001b[0;32m--> 769\u001b[0;31m         \u001b[0;32mif\u001b[0m \u001b[0mnp\u001b[0m\u001b[0;34m.\u001b[0m\u001b[0misnan\u001b[0m\u001b[0;34m(\u001b[0m\u001b[0my_pred\u001b[0m\u001b[0;34m)\u001b[0m\u001b[0;34m.\u001b[0m\u001b[0many\u001b[0m\u001b[0;34m(\u001b[0m\u001b[0;34m)\u001b[0m \u001b[0;32mor\u001b[0m \u001b[0mnp\u001b[0m\u001b[0;34m.\u001b[0m\u001b[0misinf\u001b[0m\u001b[0;34m(\u001b[0m\u001b[0my_pred\u001b[0m\u001b[0;34m)\u001b[0m\u001b[0;34m.\u001b[0m\u001b[0many\u001b[0m\u001b[0;34m(\u001b[0m\u001b[0;34m)\u001b[0m\u001b[0;34m:\u001b[0m\u001b[0;34m\u001b[0m\u001b[0;34m\u001b[0m\u001b[0m\n\u001b[0m\u001b[1;32m    770\u001b[0m             \u001b[0;32mreturn\u001b[0m \u001b[0mnp\u001b[0m\u001b[0;34m.\u001b[0m\u001b[0mnan\u001b[0m\u001b[0;34m\u001b[0m\u001b[0;34m\u001b[0m\u001b[0m\n\u001b[1;32m    771\u001b[0m \u001b[0;34m\u001b[0m\u001b[0m\n",
            "\u001b[0;31mTypeError\u001b[0m: ufunc 'isnan' not supported for the input types, and the inputs could not be safely coerced to any supported types according to the casting rule ''safe''"
          ]
        }
      ]
    },
    {
      "source": [
        "# Importing the MLPClassifier class\n",
        "from sklearn.neural_network import MLPClassifier\n",
        "from sklearn.preprocessing import LabelEncoder\n",
        "\n",
        "# Create a LabelEncoder object\n",
        "label_encoder = LabelEncoder()\n",
        "\n",
        "# Fit the LabelEncoder on the target variable\n",
        "label_encoder.fit(y_train)\n",
        "\n",
        "# Transform the target variable to numerical labels\n",
        "y_train_encoded = label_encoder.transform(y_train)\n",
        "\n",
        "# MLP Classifier\n",
        "mlp_model = MLPClassifier(hidden_layer_sizes=256, max_iter=500, learning_rate_init=0.001, early_stopping=True, random_state=42, verbose=verbose)\n",
        "\n",
        "# Fit the model on training data with encoded target variable\n",
        "mlp_model.fit(X_train_tfidf, y_train_encoded)\n",
        "\n",
        "# Predict on test data (remember to encode y_test as well)\n",
        "y_test_encoded = label_encoder.transform(y_test)\n",
        "y_test_pred_mlp = mlp_model.predict(X_test_tfidf)\n",
        "\n",
        "# Convert predictions back to original labels\n",
        "y_test_pred_mlp_labels = label_encoder.inverse_transform(y_test_pred_mlp)\n",
        "\n",
        "# MLP Classifier Results\n",
        "print(\"\\n[MLP Classifier]\")\n",
        "print(\"Test Accuracy:\", accuracy_score(y_test, y_test_pred_mlp_labels))\n",
        "print(\"Classification Report:\\n\", classification_report(y_test, y_test_pred_mlp_labels))\n",
        "\n",
        "# Show the heatmap (use y_test_pred_mlp_labels)\n",
        "sns.heatmap(confusion_matrix(y_test, y_test_pred_mlp_labels), annot=True, fmt='d', cmap='Blues')\n",
        "plt.title(\"Confusion Matrix - MLP Classifier\")\n",
        "plt.show()"
      ],
      "cell_type": "code",
      "metadata": {
        "colab": {
          "base_uri": "https://localhost:8080/",
          "height": 1000
        },
        "id": "Ga454j2-sI3v",
        "outputId": "92a19cf6-39a9-471a-c789-d1322be7c3fc"
      },
      "execution_count": null,
      "outputs": [
        {
          "output_type": "stream",
          "name": "stdout",
          "text": [
            "Iteration 1, loss = 0.55613497\n",
            "Validation score: 0.866464\n",
            "Iteration 2, loss = 0.36674802\n",
            "Validation score: 0.871624\n",
            "Iteration 3, loss = 0.33365478\n",
            "Validation score: 0.873824\n",
            "Iteration 4, loss = 0.30457495\n",
            "Validation score: 0.878300\n",
            "Iteration 5, loss = 0.27533534\n",
            "Validation score: 0.877845\n",
            "Iteration 6, loss = 0.24084529\n",
            "Validation score: 0.877086\n",
            "Iteration 7, loss = 0.20273176\n",
            "Validation score: 0.874431\n",
            "Iteration 8, loss = 0.16092540\n",
            "Validation score: 0.875038\n",
            "Iteration 9, loss = 0.12119724\n",
            "Validation score: 0.872914\n",
            "Iteration 10, loss = 0.08672290\n",
            "Validation score: 0.872534\n",
            "Iteration 11, loss = 0.06069926\n",
            "Validation score: 0.875190\n",
            "Iteration 12, loss = 0.04289747\n",
            "Validation score: 0.872231\n",
            "Iteration 13, loss = 0.03227489\n",
            "Validation score: 0.875645\n",
            "Iteration 14, loss = 0.02569515\n",
            "Validation score: 0.872155\n",
            "Iteration 15, loss = 0.02192700\n",
            "Validation score: 0.873824\n",
            "Validation score did not improve more than tol=0.000100 for 10 consecutive epochs. Stopping.\n",
            "\n",
            "[MLP Classifier]\n",
            "Test Accuracy: 0.8786913108136818\n",
            "Classification Report:\n",
            "               precision    recall  f1-score   support\n",
            "\n",
            "    negative       0.83      0.79      0.81      7070\n",
            "     neutral       0.87      0.94      0.90     11199\n",
            "    positive       0.91      0.88      0.89     14680\n",
            "\n",
            "    accuracy                           0.88     32949\n",
            "   macro avg       0.87      0.87      0.87     32949\n",
            "weighted avg       0.88      0.88      0.88     32949\n",
            "\n"
          ]
        },
        {
          "output_type": "display_data",
          "data": {
            "text/plain": [
              "<Figure size 640x480 with 2 Axes>"
            ],
            "image/png": "[encoded data removed]"
          },
          "metadata": {}
        }
      ]
    }
  ]
}