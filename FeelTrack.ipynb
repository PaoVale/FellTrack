{
  "nbformat": 4,
  "nbformat_minor": 0,
  "metadata": {
    "colab": {
      "provenance": [],
      "authorship_tag": "ABX9TyONgKqsnqd8DwOxzUo29Cf4",
      "include_colab_link": true
    },
    "kernelspec": {
      "name": "python3",
      "display_name": "Python 3"
    },
    "language_info": {
      "name": "python"
    }
  },
  "cells": [
    {
      "cell_type": "markdown",
      "metadata": {
        "id": "view-in-github",
        "colab_type": "text"
      },
      "source": [
        "<a href=\"https://colab.research.google.com/github/PaoVale/FellTrack/blob/main/FeelTrack.ipynb\" target=\"_parent\"><img src=\"https://colab.research.google.com/assets/colab-badge.svg\" alt=\"Open In Colab\"/></a>"
      ]
    },
    {
      "cell_type": "markdown",
      "source": [
        "# Setup"
      ],
      "metadata": {
        "id": "JT5o7bm5gmyF"
      }
    },
    {
      "cell_type": "code",
      "source": [
        "# Setup and Import Libraries\n",
        "import re\n",
        "import nltk\n",
        "import numpy as np\n",
        "import pandas as pd\n",
        "import seaborn as sns\n",
        "import matplotlib.pyplot as plt\n",
        "\n",
        "from sklearn.metrics import accuracy_score, classification_report, confusion_matrix\n",
        "\n",
        "# Download nltk duct utils\n",
        "nltk.data.path.append('/usr/share/nltk_data')\n",
        "nltk.download('stopwords', '/usr/share/nltk_data')\n",
        "nltk.download('wordnet', '/usr/share/nltk_data')\n",
        "nltk.download('punkt', '/usr/share/nltk_data')\n",
        "nltk.download('punkt_tab', download_dir='/usr/share/nltk_data')\n",
        "!yes | unzip -q /usr/share/nltk_data/corpora/wordnet.zip -d /usr/share/nltk_data/corpora/\n",
        "\n",
        "# Setting the style for seaborn\n",
        "sns.set(style='whitegrid')\n",
        "\n",
        "# To suppress warnings\n",
        "%matplotlib inline\n",
        "import warnings\n",
        "warnings.filterwarnings('ignore')\n",
        "\n",
        "# Set verbosity during model trainig\n",
        "verbose = True"
      ],
      "metadata": {
        "id": "ZXiRlFfDZx4G",
        "trusted": true,
        "execution": {
          "iopub.status.busy": "2025-02-04T22:28:15.897016Z",
          "iopub.execute_input": "2025-02-04T22:28:15.897535Z",
          "iopub.status.idle": "2025-02-04T22:28:16.493364Z",
          "shell.execute_reply.started": "2025-02-04T22:28:15.897502Z",
          "shell.execute_reply": "2025-02-04T22:28:16.491970Z"
        }
      },
      "outputs": [],
      "execution_count": null
    },
    {
      "cell_type": "markdown",
      "source": [
        "# Dataset"
      ],
      "metadata": {
        "id": "Lvw536GCgmyI"
      }
    },
    {
      "cell_type": "markdown",
      "source": [
        "### Dataset Loading"
      ],
      "metadata": {
        "id": "tKwOqdw-gmyI"
      }
    },
    {
      "cell_type": "code",
      "source": [
        "# Load training dataset part 1\n",
        "train_pt1 = pd.read_csv('Train.csv')\n",
        "\n",
        "# Drop not used columns\n",
        "train_pt1 = train_pt1.drop(columns=['Id'], axis=1)\n",
        "\n",
        "# Load training dataset part 1\n",
        "train_pt2 = pd.read_csv('Twitter_Data.csv')\n",
        "\n",
        "# Rename columns\n",
        "train_pt2 = train_pt2.rename(columns={\"clean_text\": \"Body\", \"category\": \"Sentiment Type\"})\n",
        "\n",
        "# Replace values to match lables of part 1\n",
        "train_pt2 = train_pt2.replace(-1, \"negative\")\n",
        "train_pt2 = train_pt2.replace(0, \"neutral\")\n",
        "train_pt2 = train_pt2.replace(1, \"positive\")\n",
        "\n",
        "# Concat the two parts to get the final training set\n",
        "train = pd.concat([train_pt1, train_pt2], ignore_index=True, sort=False).reset_index(drop=True)\n",
        "\n",
        "\n",
        "# Load test dataset\n",
        "test  = pd.read_csv('synthetic_social_media_data.csv')"
      ],
      "metadata": {
        "id": "nkJiCpKLZ7p8",
        "trusted": true,
        "execution": {
          "iopub.status.busy": "2025-02-04T22:28:16.495630Z",
          "iopub.execute_input": "2025-02-04T22:28:16.496098Z",
          "iopub.status.idle": "2025-02-04T22:28:17.282369Z",
          "shell.execute_reply.started": "2025-02-04T22:28:16.496047Z",
          "shell.execute_reply": "2025-02-04T22:28:17.281279Z"
        }
      },
      "outputs": [],
      "execution_count": null
    },
    {
      "cell_type": "code",
      "source": [
        "# Display first few rows of training set\n",
        "print(\"Training Dataset:\")\n",
        "print(train.head())"
      ],
      "metadata": {
        "id": "X_FXt1roalc5",
        "trusted": true,
        "execution": {
          "iopub.status.busy": "2025-02-04T22:28:17.284689Z",
          "iopub.execute_input": "2025-02-04T22:28:17.285143Z",
          "iopub.status.idle": "2025-02-04T22:28:17.294288Z",
          "shell.execute_reply.started": "2025-02-04T22:28:17.285097Z",
          "shell.execute_reply": "2025-02-04T22:28:17.293038Z"
        }
      },
      "outputs": [],
      "execution_count": null
    },
    {
      "cell_type": "code",
      "source": [
        "# Display first few rows of test set\n",
        "print(\"\\nTest Dataset:\")\n",
        "print(test.head())"
      ],
      "metadata": {
        "trusted": true,
        "execution": {
          "iopub.status.busy": "2025-02-04T22:28:17.295829Z",
          "iopub.execute_input": "2025-02-04T22:28:17.296184Z",
          "iopub.status.idle": "2025-02-04T22:28:17.316802Z",
          "shell.execute_reply.started": "2025-02-04T22:28:17.296156Z",
          "shell.execute_reply": "2025-02-04T22:28:17.315470Z"
        },
        "id": "FWIrBZp_gmyJ"
      },
      "outputs": [],
      "execution_count": null
    },
    {
      "cell_type": "code",
      "source": [
        "# Missing Values in Training Dataset\n",
        "train.isnull().sum()"
      ],
      "metadata": {
        "id": "yZ2Fbp89apB4",
        "trusted": true,
        "execution": {
          "iopub.status.busy": "2025-02-04T22:28:17.318220Z",
          "iopub.execute_input": "2025-02-04T22:28:17.318658Z",
          "iopub.status.idle": "2025-02-04T22:28:17.363949Z",
          "shell.execute_reply.started": "2025-02-04T22:28:17.318625Z",
          "shell.execute_reply": "2025-02-04T22:28:17.362773Z"
        }
      },
      "outputs": [],
      "execution_count": null
    },
    {
      "cell_type": "code",
      "source": [
        "# Class distribution\n",
        "train['Sentiment Type'].value_counts()"
      ],
      "metadata": {
        "id": "PvxDN6f6ask1",
        "trusted": true,
        "execution": {
          "iopub.status.busy": "2025-02-04T22:28:17.365217Z",
          "iopub.execute_input": "2025-02-04T22:28:17.365551Z",
          "iopub.status.idle": "2025-02-04T22:28:17.395592Z",
          "shell.execute_reply.started": "2025-02-04T22:28:17.365517Z",
          "shell.execute_reply": "2025-02-04T22:28:17.394611Z"
        }
      },
      "outputs": [],
      "execution_count": null
    }
  ]
}