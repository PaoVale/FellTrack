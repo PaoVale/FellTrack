{
  "nbformat": 4,
  "nbformat_minor": 0,
  "metadata": {
    "colab": {
      "provenance": [],
      "include_colab_link": true
    },
    "kernelspec": {
      "name": "python3",
      "display_name": "Python 3"
    },
    "language_info": {
      "name": "python"
    }
  },
  "cells": [
    {
      "cell_type": "markdown",
      "metadata": {
        "id": "view-in-github",
        "colab_type": "text"
      },
      "source": [
        "<a href=\"https://colab.research.google.com/github/PaoVale/FellTrack/blob/main/FeelTrack.ipynb\" target=\"_parent\"><img src=\"https://colab.research.google.com/assets/colab-badge.svg\" alt=\"Open In Colab\"/></a>"
      ]
    },
    {
      "cell_type": "markdown",
      "source": [
        "# Setup"
      ],
      "metadata": {
        "id": "JT5o7bm5gmyF"
      }
    },
    {
      "cell_type": "code",
      "source": [
        "# Setup and Import Libraries\n",
        "import re\n",
        "import nltk\n",
        "import numpy as np\n",
        "import pandas as pd\n",
        "import seaborn as sns\n",
        "import matplotlib.pyplot as plt\n",
        "\n",
        "from sklearn.metrics import accuracy_score, classification_report, confusion_matrix\n",
        "\n",
        "# Download nltk duct utils\n",
        "nltk.data.path.append('/usr/share/nltk_data')\n",
        "nltk.download('stopwords', '/usr/share/nltk_data')\n",
        "nltk.download('wordnet', '/usr/share/nltk_data')\n",
        "nltk.download('punkt', '/usr/share/nltk_data')\n",
        "nltk.download('punkt_tab', download_dir='/usr/share/nltk_data')\n",
        "!yes | unzip -q /usr/share/nltk_data/corpora/wordnet.zip -d /usr/share/nltk_data/corpora/\n",
        "\n",
        "# Setting the style for seaborn\n",
        "sns.set(style='whitegrid')\n",
        "\n",
        "# To suppress warnings\n",
        "%matplotlib inline\n",
        "import warnings\n",
        "warnings.filterwarnings('ignore')\n",
        "\n",
        "# Set verbosity during model trainig\n",
        "verbose = True"
      ],
      "metadata": {
        "id": "ZXiRlFfDZx4G",
        "trusted": true,
        "execution": {
          "iopub.status.busy": "2025-02-04T22:28:15.897016Z",
          "iopub.execute_input": "2025-02-04T22:28:15.897535Z",
          "iopub.status.idle": "2025-02-04T22:28:16.493364Z",
          "shell.execute_reply.started": "2025-02-04T22:28:15.897502Z",
          "shell.execute_reply": "2025-02-04T22:28:16.491970Z"
        }
      },
      "outputs": [],
      "execution_count": null
    },
    {
      "cell_type": "markdown",
      "source": [
        "# Dataset"
      ],
      "metadata": {
        "id": "Lvw536GCgmyI"
      }
    },
    {
      "cell_type": "markdown",
      "source": [
        "### Dataset Loading"
      ],
      "metadata": {
        "id": "tKwOqdw-gmyI"
      }
    },
    {
      "cell_type": "code",
      "source": [
        "# Load training dataset part 1\n",
        "train_pt1 = pd.read_csv('Train.csv')\n",
        "\n",
        "# Drop not used columns\n",
        "train_pt1 = train_pt1.drop(columns=['Id'], axis=1)\n",
        "\n",
        "# Load training dataset part 1\n",
        "train_pt2 = pd.read_csv('Twitter_Data.csv')\n",
        "\n",
        "# Rename columns\n",
        "train_pt2 = train_pt2.rename(columns={\"clean_text\": \"Body\", \"category\": \"Sentiment Type\"})\n",
        "\n",
        "# Replace values to match lables of part 1\n",
        "train_pt2 = train_pt2.replace(-1, \"negative\")\n",
        "train_pt2 = train_pt2.replace(0, \"neutral\")\n",
        "train_pt2 = train_pt2.replace(1, \"positive\")\n",
        "\n",
        "# Concat the two parts to get the final training set\n",
        "train = pd.concat([train_pt1, train_pt2], ignore_index=True, sort=False).reset_index(drop=True)\n",
        "\n",
        "\n",
        "# Load test dataset\n",
        "test  = pd.read_csv('synthetic_social_media_data.csv')"
      ],
      "metadata": {
        "id": "nkJiCpKLZ7p8",
        "trusted": true,
        "execution": {
          "iopub.status.busy": "2025-02-04T22:28:16.495630Z",
          "iopub.execute_input": "2025-02-04T22:28:16.496098Z",
          "iopub.status.idle": "2025-02-04T22:28:17.282369Z",
          "shell.execute_reply.started": "2025-02-04T22:28:16.496047Z",
          "shell.execute_reply": "2025-02-04T22:28:17.281279Z"
        }
      },
      "outputs": [],
      "execution_count": null
    },
    {
      "cell_type": "code",
      "source": [
        "# Display first few rows of training set\n",
        "print(\"Training Dataset:\")\n",
        "print(train.head())"
      ],
      "metadata": {
        "id": "X_FXt1roalc5",
        "trusted": true,
        "execution": {
          "iopub.status.busy": "2025-02-04T22:28:17.284689Z",
          "iopub.execute_input": "2025-02-04T22:28:17.285143Z",
          "iopub.status.idle": "2025-02-04T22:28:17.294288Z",
          "shell.execute_reply.started": "2025-02-04T22:28:17.285097Z",
          "shell.execute_reply": "2025-02-04T22:28:17.293038Z"
        }
      },
      "outputs": [],
      "execution_count": null
    },
    {
      "cell_type": "code",
      "source": [
        "# Display first few rows of test set\n",
        "print(\"\\nTest Dataset:\")\n",
        "print(test.head())"
      ],
      "metadata": {
        "trusted": true,
        "execution": {
          "iopub.status.busy": "2025-02-04T22:28:17.295829Z",
          "iopub.execute_input": "2025-02-04T22:28:17.296184Z",
          "iopub.status.idle": "2025-02-04T22:28:17.316802Z",
          "shell.execute_reply.started": "2025-02-04T22:28:17.296156Z",
          "shell.execute_reply": "2025-02-04T22:28:17.315470Z"
        },
        "id": "FWIrBZp_gmyJ"
      },
      "outputs": [],
      "execution_count": null
    },
    {
      "cell_type": "code",
      "source": [
        "# Missing Values in Training Dataset\n",
        "train.isnull().sum()"
      ],
      "metadata": {
        "id": "yZ2Fbp89apB4",
        "trusted": true,
        "execution": {
          "iopub.status.busy": "2025-02-04T22:28:17.318220Z",
          "iopub.execute_input": "2025-02-04T22:28:17.318658Z",
          "iopub.status.idle": "2025-02-04T22:28:17.363949Z",
          "shell.execute_reply.started": "2025-02-04T22:28:17.318625Z",
          "shell.execute_reply": "2025-02-04T22:28:17.362773Z"
        }
      },
      "outputs": [],
      "execution_count": null
    },
    {
      "cell_type": "code",
      "source": [
        "# Class distribution\n",
        "train['Sentiment Type'].value_counts()"
      ],
      "metadata": {
        "id": "PvxDN6f6ask1",
        "trusted": true,
        "execution": {
          "iopub.status.busy": "2025-02-04T22:28:17.365217Z",
          "iopub.execute_input": "2025-02-04T22:28:17.365551Z",
          "iopub.status.idle": "2025-02-04T22:28:17.395592Z",
          "shell.execute_reply.started": "2025-02-04T22:28:17.365517Z",
          "shell.execute_reply": "2025-02-04T22:28:17.394611Z"
        }
      },
      "outputs": [],
      "execution_count": null
    },
    {
      "cell_type": "markdown",
      "source": [
        "## Dataset Preprocessing"
      ],
      "metadata": {
        "id": "Qsej8noxgmyK"
      }
    },
    {
      "cell_type": "code",
      "source": [
        "# Drop rows where any column has missing values\n",
        "train = train.dropna()\n",
        "test = test.dropna()"
      ],
      "metadata": {
        "id": "_s_fhcMdaxnP",
        "trusted": true,
        "execution": {
          "iopub.status.busy": "2025-02-04T22:28:17.396796Z",
          "iopub.execute_input": "2025-02-04T22:28:17.397276Z",
          "iopub.status.idle": "2025-02-04T22:28:17.450796Z",
          "shell.execute_reply.started": "2025-02-04T22:28:17.397231Z",
          "shell.execute_reply": "2025-02-04T22:28:17.449509Z"
        }
      },
      "outputs": [],
      "execution_count": null
    },
    {
      "cell_type": "code",
      "source": [
        "# Plotting class distribution\n",
        "plt.figure(figsize=(6, 4))\n",
        "sns.countplot(data=train, x='Sentiment Type', palette='viridis')\n",
        "plt.title('Sentiment Type Distribution')\n",
        "plt.xlabel('Sentiment Type')\n",
        "plt.ylabel('Count')\n",
        "plt.show()"
      ],
      "metadata": {
        "colab": {
          "base_uri": "https://localhost:8080/",
          "height": 419
        },
        "id": "yZbnJjBqau2t",
        "outputId": "f1c97c16-0d8d-4984-9c0e-04a1c2c7f300",
        "trusted": true,
        "execution": {
          "iopub.status.busy": "2025-02-04T22:28:17.453465Z",
          "iopub.execute_input": "2025-02-04T22:28:17.453833Z",
          "iopub.status.idle": "2025-02-04T22:28:17.757625Z",
          "shell.execute_reply.started": "2025-02-04T22:28:17.453803Z",
          "shell.execute_reply": "2025-02-04T22:28:17.756507Z"
        }
      },
      "outputs": [
        {
          "output_type": "display_data",
          "data": {
            "text/plain": [
              "<Figure size 600x400 with 1 Axes>"
            ],
            "image/png": "[encoded data removed]"
          },
          "metadata": {}
        }
      ],
      "execution_count": null
    },
    {
      "cell_type": "code",
      "source": [
        "# Remove contractions\n",
        "def contractions(s):\n",
        "    s = re.sub(r\"won't\", \"will not\", s, flags=re.IGNORECASE)\n",
        "    s = re.sub(r\"wouldn't\", \"would not\", s, flags=re.IGNORECASE)\n",
        "    s = re.sub(r\"couldn't\", \"could not\", s, flags=re.IGNORECASE)\n",
        "    s = re.sub(r\"\\’d\", \" would\", s, flags=re.IGNORECASE)\n",
        "    s = re.sub(r\"can't\", \"can not\", s, flags=re.IGNORECASE)\n",
        "    s = re.sub(r\"n’t\", \" not\", s, flags=re.IGNORECASE)\n",
        "    s = re.sub(r\"\\’re\", \" are\", s, flags=re.IGNORECASE)\n",
        "    s = re.sub(r\"\\’s\", \" is\", s, flags=re.IGNORECASE)\n",
        "    s = re.sub(r\"\\’ll\", \" will\", s, flags=re.IGNORECASE)\n",
        "    s = re.sub(r\"\\’t\", \" not\", s, flags=re.IGNORECASE)\n",
        "    s = re.sub(r\"\\’ve\", \" have\", s, flags=re.IGNORECASE)\n",
        "    s = re.sub(r\"\\’m\", \" am\", s, flags=re.IGNORECASE)\n",
        "    return s\n",
        "\n",
        "# Apply the function\n",
        "train['Body'] = train['Body'].apply(lambda x: contractions(x))\n",
        "test['Post Content'] = test['Post Content'].apply(lambda x: contractions(x))"
      ],
      "metadata": {
        "trusted": true,
        "execution": {
          "iopub.status.busy": "2025-02-04T22:28:17.759297Z",
          "iopub.execute_input": "2025-02-04T22:28:17.759637Z",
          "iopub.status.idle": "2025-02-04T22:28:21.579723Z",
          "shell.execute_reply.started": "2025-02-04T22:28:17.759609Z",
          "shell.execute_reply": "2025-02-04T22:28:21.578747Z"
        },
        "id": "qykyIg_fgmyL"
      },
      "outputs": [],
      "execution_count": null
    },
    {
      "cell_type": "code",
      "source": [
        "# Remove non-alpha characters\n",
        "train['Body'] = train['Body'].apply(lambda x: \" \".join([re.sub('[^A-Za-z]+','', x) for x in nltk.word_tokenize(x)]))\n",
        "test['Post Content'] = test['Post Content'].apply(lambda x: \" \".join([re.sub('[^A-Za-z]+','', x) for x in nltk.word_tokenize(x)]))"
      ],
      "metadata": {
        "trusted": true,
        "execution": {
          "iopub.status.busy": "2025-02-04T22:28:21.580744Z",
          "iopub.execute_input": "2025-02-04T22:28:21.581130Z",
          "iopub.status.idle": "2025-02-04T22:28:51.577964Z",
          "shell.execute_reply.started": "2025-02-04T22:28:21.581082Z",
          "shell.execute_reply": "2025-02-04T22:28:51.576661Z"
        },
        "id": "vYE_ID2ugmyL"
      },
      "outputs": [],
      "execution_count": null
    },
    {
      "cell_type": "code",
      "source": [
        "# Remove the extra spaces between the words\n",
        "train['Body'] = train['Body'].apply(lambda x: re.sub(' +', ' ', x))\n",
        "test['Post Content'] = test['Post Content'].apply(lambda x: re.sub(' +', ' ', x))"
      ],
      "metadata": {
        "trusted": true,
        "execution": {
          "iopub.status.busy": "2025-02-04T22:28:51.579189Z",
          "iopub.execute_input": "2025-02-04T22:28:51.579541Z",
          "iopub.status.idle": "2025-02-04T22:28:52.918292Z",
          "shell.execute_reply.started": "2025-02-04T22:28:51.579511Z",
          "shell.execute_reply": "2025-02-04T22:28:52.917149Z"
        },
        "id": "XT2OU6-OgmyM"
      },
      "outputs": [],
      "execution_count": null
    },
    {
      "cell_type": "code",
      "source": [
        "# Remove the stop words by using the NLTK package\n",
        "from nltk.corpus import stopwords\n",
        "\n",
        "stop = stopwords.words('english')\n",
        "train['Body'] = train['Body'].apply(lambda x: \" \".join([x for x in x.split() if x not in stop]))\n",
        "test['Post Content'] = test['Post Content'].apply(lambda x: \" \".join([x for x in x.split() if x not in stop]))"
      ],
      "metadata": {
        "trusted": true,
        "execution": {
          "iopub.status.busy": "2025-02-04T22:28:52.919412Z",
          "iopub.execute_input": "2025-02-04T22:28:52.919782Z",
          "iopub.status.idle": "2025-02-04T22:29:00.950698Z",
          "shell.execute_reply.started": "2025-02-04T22:28:52.919738Z",
          "shell.execute_reply": "2025-02-04T22:29:00.949332Z"
        },
        "id": "tR49G14RgmyM"
      },
      "outputs": [],
      "execution_count": null
    },
    {
      "cell_type": "code",
      "source": [
        "# Perform lemmatization using the wordnet lemmatizer\n",
        "from nltk.stem import WordNetLemmatizer\n",
        "\n",
        "lemmatizer = WordNetLemmatizer()\n",
        "train['Body'] = train['Body'].apply(lambda x: \" \".join([lemmatizer.lemmatize(w) for w in nltk.word_tokenize(x)]))\n",
        "test['Post Content'] = test['Post Content'].apply(lambda x: \" \".join([lemmatizer.lemmatize(w) for w in nltk.word_tokenize(x)]))"
      ],
      "metadata": {
        "trusted": true,
        "execution": {
          "iopub.status.busy": "2025-02-04T22:29:00.951559Z",
          "iopub.execute_input": "2025-02-04T22:29:00.951898Z",
          "iopub.status.idle": "2025-02-04T22:29:34.462538Z",
          "shell.execute_reply.started": "2025-02-04T22:29:00.951867Z",
          "shell.execute_reply": "2025-02-04T22:29:34.460925Z"
        },
        "id": "JLmQS-7bgmyM"
      },
      "outputs": [],
      "execution_count": null
    },
    {
      "cell_type": "code",
      "source": [
        "# Dividi il dataset in training e test set\n",
        "from sklearn.model_selection import train_test_split\n",
        "\n",
        "X = train['Body']\n",
        "y = train['Sentiment Type']\n",
        "\n",
        "# Dividiamo i dati in training e test set (80% training, 20% test)\n",
        "X_train, X_test, y_train, y_test = train_test_split(X, y, test_size=0.2, random_state=42, shuffle=True)"
      ],
      "metadata": {
        "trusted": true,
        "execution": {
          "iopub.status.busy": "2025-02-04T22:29:34.463780Z",
          "iopub.execute_input": "2025-02-04T22:29:34.464120Z",
          "iopub.status.idle": "2025-02-04T22:29:34.562340Z",
          "shell.execute_reply.started": "2025-02-04T22:29:34.464089Z",
          "shell.execute_reply": "2025-02-04T22:29:34.561104Z"
        },
        "id": "LOMdA0ZRgmyM"
      },
      "outputs": [],
      "execution_count": null
    },
    {
      "cell_type": "code",
      "source": [
        "# Feature Extraction using TF-IDF\n",
        "from sklearn.feature_extraction.text import TfidfVectorizer\n",
        "\n",
        "# Init the TfidfVectorizer\n",
        "tfidf_vectorizer = TfidfVectorizer(max_features=6000, ngram_range=(1, 2))\n",
        "\n",
        "# Apply TF-IDF to vectorize the text\n",
        "X_train_tfidf = tfidf_vectorizer.fit_transform(X_train)\n",
        "X_test_tfidf = tfidf_vectorizer.transform(X_test)\n",
        "\n",
        "print(\"\\nShape of X_train_tfidf:\", X_train_tfidf.shape)\n",
        "print(\"Shape of X_test_tfidf:\", X_test_tfidf.shape)"
      ],
      "metadata": {
        "colab": {
          "base_uri": "https://localhost:8080/"
        },
        "id": "pTo1s8_-R0lx",
        "outputId": "023b6dda-cb92-49b8-e267-7bcdc60ec15a",
        "trusted": true,
        "execution": {
          "iopub.status.busy": "2025-02-04T22:29:34.563677Z",
          "iopub.execute_input": "2025-02-04T22:29:34.564001Z",
          "iopub.status.idle": "2025-02-04T22:29:45.494446Z",
          "shell.execute_reply.started": "2025-02-04T22:29:34.563971Z",
          "shell.execute_reply": "2025-02-04T22:29:45.493262Z"
        }
      },
      "outputs": [
        {
          "output_type": "stream",
          "name": "stdout",
          "text": [
            "\n",
            "Shape of X_train_tfidf: (131792, 6000)\n",
            "Shape of X_test_tfidf: (32949, 6000)\n"
          ]
        }
      ],
      "execution_count": null
    },
    {
      "cell_type": "markdown",
      "source": [
        "## Dataset Preprocessing"
      ],
      "metadata": {
        "id": "FcfetNyiqBm2"
      }
    },
    {
      "cell_type": "code",
      "source": [
        "# Drop rows where any column has missing values\n",
        "train = train.dropna()\n",
        "test = test.dropna()"
      ],
      "metadata": {
        "trusted": true,
        "execution": {
          "iopub.status.busy": "2025-02-04T22:28:17.396796Z",
          "iopub.execute_input": "2025-02-04T22:28:17.397276Z",
          "iopub.status.idle": "2025-02-04T22:28:17.450796Z",
          "shell.execute_reply.started": "2025-02-04T22:28:17.397231Z",
          "shell.execute_reply": "2025-02-04T22:28:17.449509Z"
        },
        "id": "suSOz5DYqBm3"
      },
      "outputs": [],
      "execution_count": null
    },
    {
      "cell_type": "code",
      "source": [
        "# Plotting class distribution\n",
        "plt.figure(figsize=(6, 4))\n",
        "sns.countplot(data=train, x='Sentiment Type', palette='viridis')\n",
        "plt.title('Sentiment Type Distribution')\n",
        "plt.xlabel('Sentiment Type')\n",
        "plt.ylabel('Count')\n",
        "plt.show()"
      ],
      "metadata": {
        "colab": {
          "base_uri": "https://localhost:8080/",
          "height": 419
        },
        "outputId": "f1c97c16-0d8d-4984-9c0e-04a1c2c7f300",
        "trusted": true,
        "execution": {
          "iopub.status.busy": "2025-02-04T22:28:17.453465Z",
          "iopub.execute_input": "2025-02-04T22:28:17.453833Z",
          "iopub.status.idle": "2025-02-04T22:28:17.757625Z",
          "shell.execute_reply.started": "2025-02-04T22:28:17.453803Z",
          "shell.execute_reply": "2025-02-04T22:28:17.756507Z"
        },
        "id": "YuQve_iRqBm4"
      },
      "outputs": [
        {
          "output_type": "display_data",
          "data": {
            "text/plain": [
              "<Figure size 600x400 with 1 Axes>"
            ],
            "image/png": "[encoded data removed]"
          },
          "metadata": {}
        }
      ],
      "execution_count": null
    },
    {
      "cell_type": "code",
      "source": [
        "# Remove contractions\n",
        "def contractions(s):\n",
        "    s = re.sub(r\"won't\", \"will not\", s, flags=re.IGNORECASE)\n",
        "    s = re.sub(r\"wouldn't\", \"would not\", s, flags=re.IGNORECASE)\n",
        "    s = re.sub(r\"couldn't\", \"could not\", s, flags=re.IGNORECASE)\n",
        "    s = re.sub(r\"\\’d\", \" would\", s, flags=re.IGNORECASE)\n",
        "    s = re.sub(r\"can't\", \"can not\", s, flags=re.IGNORECASE)\n",
        "    s = re.sub(r\"n’t\", \" not\", s, flags=re.IGNORECASE)\n",
        "    s = re.sub(r\"\\’re\", \" are\", s, flags=re.IGNORECASE)\n",
        "    s = re.sub(r\"\\’s\", \" is\", s, flags=re.IGNORECASE)\n",
        "    s = re.sub(r\"\\’ll\", \" will\", s, flags=re.IGNORECASE)\n",
        "    s = re.sub(r\"\\’t\", \" not\", s, flags=re.IGNORECASE)\n",
        "    s = re.sub(r\"\\’ve\", \" have\", s, flags=re.IGNORECASE)\n",
        "    s = re.sub(r\"\\’m\", \" am\", s, flags=re.IGNORECASE)\n",
        "    return s\n",
        "\n",
        "# Apply the function\n",
        "train['Body'] = train['Body'].apply(lambda x: contractions(x))\n",
        "test['Post Content'] = test['Post Content'].apply(lambda x: contractions(x))"
      ],
      "metadata": {
        "trusted": true,
        "execution": {
          "iopub.status.busy": "2025-02-04T22:28:17.759297Z",
          "iopub.execute_input": "2025-02-04T22:28:17.759637Z",
          "iopub.status.idle": "2025-02-04T22:28:21.579723Z",
          "shell.execute_reply.started": "2025-02-04T22:28:17.759609Z",
          "shell.execute_reply": "2025-02-04T22:28:21.578747Z"
        },
        "id": "xvG3MHUHqBm4"
      },
      "outputs": [],
      "execution_count": null
    },
    {
      "cell_type": "code",
      "source": [
        "# Remove non-alpha characters\n",
        "train['Body'] = train['Body'].apply(lambda x: \" \".join([re.sub('[^A-Za-z]+','', x) for x in nltk.word_tokenize(x)]))\n",
        "test['Post Content'] = test['Post Content'].apply(lambda x: \" \".join([re.sub('[^A-Za-z]+','', x) for x in nltk.word_tokenize(x)]))"
      ],
      "metadata": {
        "trusted": true,
        "execution": {
          "iopub.status.busy": "2025-02-04T22:28:21.580744Z",
          "iopub.execute_input": "2025-02-04T22:28:21.581130Z",
          "iopub.status.idle": "2025-02-04T22:28:51.577964Z",
          "shell.execute_reply.started": "2025-02-04T22:28:21.581082Z",
          "shell.execute_reply": "2025-02-04T22:28:51.576661Z"
        },
        "id": "KWwBV7AnqBm4"
      },
      "outputs": [],
      "execution_count": null
    },
    {
      "cell_type": "code",
      "source": [
        "# Remove the extra spaces between the words\n",
        "train['Body'] = train['Body'].apply(lambda x: re.sub(' +', ' ', x))\n",
        "test['Post Content'] = test['Post Content'].apply(lambda x: re.sub(' +', ' ', x))"
      ],
      "metadata": {
        "trusted": true,
        "execution": {
          "iopub.status.busy": "2025-02-04T22:28:51.579189Z",
          "iopub.execute_input": "2025-02-04T22:28:51.579541Z",
          "iopub.status.idle": "2025-02-04T22:28:52.918292Z",
          "shell.execute_reply.started": "2025-02-04T22:28:51.579511Z",
          "shell.execute_reply": "2025-02-04T22:28:52.917149Z"
        },
        "id": "9Npo8u-1qBm5"
      },
      "outputs": [],
      "execution_count": null
    },
    {
      "cell_type": "code",
      "source": [
        "# Remove the stop words by using the NLTK package\n",
        "from nltk.corpus import stopwords\n",
        "\n",
        "stop = stopwords.words('english')\n",
        "train['Body'] = train['Body'].apply(lambda x: \" \".join([x for x in x.split() if x not in stop]))\n",
        "test['Post Content'] = test['Post Content'].apply(lambda x: \" \".join([x for x in x.split() if x not in stop]))"
      ],
      "metadata": {
        "trusted": true,
        "execution": {
          "iopub.status.busy": "2025-02-04T22:28:52.919412Z",
          "iopub.execute_input": "2025-02-04T22:28:52.919782Z",
          "iopub.status.idle": "2025-02-04T22:29:00.950698Z",
          "shell.execute_reply.started": "2025-02-04T22:28:52.919738Z",
          "shell.execute_reply": "2025-02-04T22:29:00.949332Z"
        },
        "id": "R3XM-CMnqBm5"
      },
      "outputs": [],
      "execution_count": null
    },
    {
      "cell_type": "code",
      "source": [
        "# Perform lemmatization using the wordnet lemmatizer\n",
        "from nltk.stem import WordNetLemmatizer\n",
        "\n",
        "lemmatizer = WordNetLemmatizer()\n",
        "train['Body'] = train['Body'].apply(lambda x: \" \".join([lemmatizer.lemmatize(w) for w in nltk.word_tokenize(x)]))\n",
        "test['Post Content'] = test['Post Content'].apply(lambda x: \" \".join([lemmatizer.lemmatize(w) for w in nltk.word_tokenize(x)]))"
      ],
      "metadata": {
        "trusted": true,
        "execution": {
          "iopub.status.busy": "2025-02-04T22:29:00.951559Z",
          "iopub.execute_input": "2025-02-04T22:29:00.951898Z",
          "iopub.status.idle": "2025-02-04T22:29:34.462538Z",
          "shell.execute_reply.started": "2025-02-04T22:29:00.951867Z",
          "shell.execute_reply": "2025-02-04T22:29:34.460925Z"
        },
        "id": "bbcCtS19qBm5"
      },
      "outputs": [],
      "execution_count": null
    },
    {
      "cell_type": "code",
      "source": [
        "# Dividi il dataset in training e test set\n",
        "from sklearn.model_selection import train_test_split\n",
        "\n",
        "X = train['Body']\n",
        "y = train['Sentiment Type']\n",
        "\n",
        "# Dividiamo i dati in training e test set (80% training, 20% test)\n",
        "X_train, X_test, y_train, y_test = train_test_split(X, y, test_size=0.2, random_state=42, shuffle=True)"
      ],
      "metadata": {
        "trusted": true,
        "execution": {
          "iopub.status.busy": "2025-02-04T22:29:34.463780Z",
          "iopub.execute_input": "2025-02-04T22:29:34.464120Z",
          "iopub.status.idle": "2025-02-04T22:29:34.562340Z",
          "shell.execute_reply.started": "2025-02-04T22:29:34.464089Z",
          "shell.execute_reply": "2025-02-04T22:29:34.561104Z"
        },
        "id": "PAletbYlqBm5"
      },
      "outputs": [],
      "execution_count": null
    },
    {
      "cell_type": "code",
      "source": [
        "# Feature Extraction using TF-IDF\n",
        "from sklearn.feature_extraction.text import TfidfVectorizer\n",
        "\n",
        "# Init the TfidfVectorizer\n",
        "tfidf_vectorizer = TfidfVectorizer(max_features=6000, ngram_range=(1, 2))\n",
        "\n",
        "# Apply TF-IDF to vectorize the text\n",
        "X_train_tfidf = tfidf_vectorizer.fit_transform(X_train)\n",
        "X_test_tfidf = tfidf_vectorizer.transform(X_test)\n",
        "\n",
        "print(\"\\nShape of X_train_tfidf:\", X_train_tfidf.shape)\n",
        "print(\"Shape of X_test_tfidf:\", X_test_tfidf.shape)"
      ],
      "metadata": {
        "colab": {
          "base_uri": "https://localhost:8080/"
        },
        "outputId": "023b6dda-cb92-49b8-e267-7bcdc60ec15a",
        "trusted": true,
        "execution": {
          "iopub.status.busy": "2025-02-04T22:29:34.563677Z",
          "iopub.execute_input": "2025-02-04T22:29:34.564001Z",
          "iopub.status.idle": "2025-02-04T22:29:45.494446Z",
          "shell.execute_reply.started": "2025-02-04T22:29:34.563971Z",
          "shell.execute_reply": "2025-02-04T22:29:45.493262Z"
        },
        "id": "nG4Spuu2qBm5"
      },
      "outputs": [
        {
          "output_type": "stream",
          "name": "stdout",
          "text": [
            "\n",
            "Shape of X_train_tfidf: (131792, 6000)\n",
            "Shape of X_test_tfidf: (32949, 6000)\n"
          ]
        }
      ],
      "execution_count": null
    },
    {
      "cell_type": "markdown",
      "source": [
        "# Models Training"
      ],
      "metadata": {
        "id": "xpNcn1gvgmyM"
      }
    },
    {
      "cell_type": "markdown",
      "source": [
        "## Dataset Preprocessing"
      ],
      "metadata": {
        "id": "JYFvxs7WqKLN"
      }
    },
    {
      "cell_type": "code",
      "source": [
        "# Drop rows where any column has missing values\n",
        "train = train.dropna()\n",
        "test = test.dropna()"
      ],
      "metadata": {
        "trusted": true,
        "execution": {
          "iopub.status.busy": "2025-02-04T22:28:17.396796Z",
          "iopub.execute_input": "2025-02-04T22:28:17.397276Z",
          "iopub.status.idle": "2025-02-04T22:28:17.450796Z",
          "shell.execute_reply.started": "2025-02-04T22:28:17.397231Z",
          "shell.execute_reply": "2025-02-04T22:28:17.449509Z"
        },
        "id": "GCbHYn_DqKLN"
      },
      "outputs": [],
      "execution_count": null
    },
    {
      "cell_type": "code",
      "source": [
        "# Plotting class distribution\n",
        "plt.figure(figsize=(6, 4))\n",
        "sns.countplot(data=train, x='Sentiment Type', palette='viridis')\n",
        "plt.title('Sentiment Type Distribution')\n",
        "plt.xlabel('Sentiment Type')\n",
        "plt.ylabel('Count')\n",
        "plt.show()"
      ],
      "metadata": {
        "colab": {
          "base_uri": "https://localhost:8080/",
          "height": 419
        },
        "outputId": "f1c97c16-0d8d-4984-9c0e-04a1c2c7f300",
        "trusted": true,
        "execution": {
          "iopub.status.busy": "2025-02-04T22:28:17.453465Z",
          "iopub.execute_input": "2025-02-04T22:28:17.453833Z",
          "iopub.status.idle": "2025-02-04T22:28:17.757625Z",
          "shell.execute_reply.started": "2025-02-04T22:28:17.453803Z",
          "shell.execute_reply": "2025-02-04T22:28:17.756507Z"
        },
        "id": "AYg40EzzqKLO"
      },
      "outputs": [
        {
          "output_type": "display_data",
          "data": {
            "text/plain": [
              "<Figure size 600x400 with 1 Axes>"
            ],
            "image/png": "[encoded data removed]"
          },
          "metadata": {}
        }
      ],
      "execution_count": null
    },
    {
      "cell_type": "code",
      "source": [
        "# Remove contractions\n",
        "def contractions(s):\n",
        "    s = re.sub(r\"won't\", \"will not\", s, flags=re.IGNORECASE)\n",
        "    s = re.sub(r\"wouldn't\", \"would not\", s, flags=re.IGNORECASE)\n",
        "    s = re.sub(r\"couldn't\", \"could not\", s, flags=re.IGNORECASE)\n",
        "    s = re.sub(r\"\\’d\", \" would\", s, flags=re.IGNORECASE)\n",
        "    s = re.sub(r\"can't\", \"can not\", s, flags=re.IGNORECASE)\n",
        "    s = re.sub(r\"n’t\", \" not\", s, flags=re.IGNORECASE)\n",
        "    s = re.sub(r\"\\’re\", \" are\", s, flags=re.IGNORECASE)\n",
        "    s = re.sub(r\"\\’s\", \" is\", s, flags=re.IGNORECASE)\n",
        "    s = re.sub(r\"\\’ll\", \" will\", s, flags=re.IGNORECASE)\n",
        "    s = re.sub(r\"\\’t\", \" not\", s, flags=re.IGNORECASE)\n",
        "    s = re.sub(r\"\\’ve\", \" have\", s, flags=re.IGNORECASE)\n",
        "    s = re.sub(r\"\\’m\", \" am\", s, flags=re.IGNORECASE)\n",
        "    return s\n",
        "\n",
        "# Apply the function\n",
        "train['Body'] = train['Body'].apply(lambda x: contractions(x))\n",
        "test['Post Content'] = test['Post Content'].apply(lambda x: contractions(x))"
      ],
      "metadata": {
        "trusted": true,
        "execution": {
          "iopub.status.busy": "2025-02-04T22:28:17.759297Z",
          "iopub.execute_input": "2025-02-04T22:28:17.759637Z",
          "iopub.status.idle": "2025-02-04T22:28:21.579723Z",
          "shell.execute_reply.started": "2025-02-04T22:28:17.759609Z",
          "shell.execute_reply": "2025-02-04T22:28:21.578747Z"
        },
        "id": "pRdTXz3zqKLO"
      },
      "outputs": [],
      "execution_count": null
    },
    {
      "cell_type": "code",
      "source": [
        "# Remove non-alpha characters\n",
        "train['Body'] = train['Body'].apply(lambda x: \" \".join([re.sub('[^A-Za-z]+','', x) for x in nltk.word_tokenize(x)]))\n",
        "test['Post Content'] = test['Post Content'].apply(lambda x: \" \".join([re.sub('[^A-Za-z]+','', x) for x in nltk.word_tokenize(x)]))"
      ],
      "metadata": {
        "trusted": true,
        "execution": {
          "iopub.status.busy": "2025-02-04T22:28:21.580744Z",
          "iopub.execute_input": "2025-02-04T22:28:21.581130Z",
          "iopub.status.idle": "2025-02-04T22:28:51.577964Z",
          "shell.execute_reply.started": "2025-02-04T22:28:21.581082Z",
          "shell.execute_reply": "2025-02-04T22:28:51.576661Z"
        },
        "id": "6IoKppzDqKLP"
      },
      "outputs": [],
      "execution_count": null
    },
    {
      "cell_type": "code",
      "source": [
        "# Remove the extra spaces between the words\n",
        "train['Body'] = train['Body'].apply(lambda x: re.sub(' +', ' ', x))\n",
        "test['Post Content'] = test['Post Content'].apply(lambda x: re.sub(' +', ' ', x))"
      ],
      "metadata": {
        "trusted": true,
        "execution": {
          "iopub.status.busy": "2025-02-04T22:28:51.579189Z",
          "iopub.execute_input": "2025-02-04T22:28:51.579541Z",
          "iopub.status.idle": "2025-02-04T22:28:52.918292Z",
          "shell.execute_reply.started": "2025-02-04T22:28:51.579511Z",
          "shell.execute_reply": "2025-02-04T22:28:52.917149Z"
        },
        "id": "qFLXEUEBqKLP"
      },
      "outputs": [],
      "execution_count": null
    },
    {
      "cell_type": "code",
      "source": [
        "# Remove the stop words by using the NLTK package\n",
        "from nltk.corpus import stopwords\n",
        "\n",
        "stop = stopwords.words('english')\n",
        "train['Body'] = train['Body'].apply(lambda x: \" \".join([x for x in x.split() if x not in stop]))\n",
        "test['Post Content'] = test['Post Content'].apply(lambda x: \" \".join([x for x in x.split() if x not in stop]))"
      ],
      "metadata": {
        "trusted": true,
        "execution": {
          "iopub.status.busy": "2025-02-04T22:28:52.919412Z",
          "iopub.execute_input": "2025-02-04T22:28:52.919782Z",
          "iopub.status.idle": "2025-02-04T22:29:00.950698Z",
          "shell.execute_reply.started": "2025-02-04T22:28:52.919738Z",
          "shell.execute_reply": "2025-02-04T22:29:00.949332Z"
        },
        "id": "_79TgqP2qKLP"
      },
      "outputs": [],
      "execution_count": null
    },
    {
      "cell_type": "code",
      "source": [
        "# Perform lemmatization using the wordnet lemmatizer\n",
        "from nltk.stem import WordNetLemmatizer\n",
        "\n",
        "lemmatizer = WordNetLemmatizer()\n",
        "train['Body'] = train['Body'].apply(lambda x: \" \".join([lemmatizer.lemmatize(w) for w in nltk.word_tokenize(x)]))\n",
        "test['Post Content'] = test['Post Content'].apply(lambda x: \" \".join([lemmatizer.lemmatize(w) for w in nltk.word_tokenize(x)]))"
      ],
      "metadata": {
        "trusted": true,
        "execution": {
          "iopub.status.busy": "2025-02-04T22:29:00.951559Z",
          "iopub.execute_input": "2025-02-04T22:29:00.951898Z",
          "iopub.status.idle": "2025-02-04T22:29:34.462538Z",
          "shell.execute_reply.started": "2025-02-04T22:29:00.951867Z",
          "shell.execute_reply": "2025-02-04T22:29:34.460925Z"
        },
        "id": "n1dzaJMRqKLP"
      },
      "outputs": [],
      "execution_count": null
    },
    {
      "cell_type": "code",
      "source": [
        "# Dividi il dataset in training e test set\n",
        "from sklearn.model_selection import train_test_split\n",
        "\n",
        "X = train['Body']\n",
        "y = train['Sentiment Type']\n",
        "\n",
        "# Dividiamo i dati in training e test set (80% training, 20% test)\n",
        "X_train, X_test, y_train, y_test = train_test_split(X, y, test_size=0.2, random_state=42, shuffle=True)"
      ],
      "metadata": {
        "trusted": true,
        "execution": {
          "iopub.status.busy": "2025-02-04T22:29:34.463780Z",
          "iopub.execute_input": "2025-02-04T22:29:34.464120Z",
          "iopub.status.idle": "2025-02-04T22:29:34.562340Z",
          "shell.execute_reply.started": "2025-02-04T22:29:34.464089Z",
          "shell.execute_reply": "2025-02-04T22:29:34.561104Z"
        },
        "id": "6uE9bh4kqKLP"
      },
      "outputs": [],
      "execution_count": null
    },
    {
      "cell_type": "code",
      "source": [
        "# Feature Extraction using TF-IDF\n",
        "from sklearn.feature_extraction.text import TfidfVectorizer\n",
        "\n",
        "# Init the TfidfVectorizer\n",
        "tfidf_vectorizer = TfidfVectorizer(max_features=6000, ngram_range=(1, 2))\n",
        "\n",
        "# Apply TF-IDF to vectorize the text\n",
        "X_train_tfidf = tfidf_vectorizer.fit_transform(X_train)\n",
        "X_test_tfidf = tfidf_vectorizer.transform(X_test)\n",
        "\n",
        "print(\"\\nShape of X_train_tfidf:\", X_train_tfidf.shape)\n",
        "print(\"Shape of X_test_tfidf:\", X_test_tfidf.shape)"
      ],
      "metadata": {
        "colab": {
          "base_uri": "https://localhost:8080/"
        },
        "outputId": "023b6dda-cb92-49b8-e267-7bcdc60ec15a",
        "trusted": true,
        "execution": {
          "iopub.status.busy": "2025-02-04T22:29:34.563677Z",
          "iopub.execute_input": "2025-02-04T22:29:34.564001Z",
          "iopub.status.idle": "2025-02-04T22:29:45.494446Z",
          "shell.execute_reply.started": "2025-02-04T22:29:34.563971Z",
          "shell.execute_reply": "2025-02-04T22:29:45.493262Z"
        },
        "id": "sOFXUnRmqKLQ"
      },
      "outputs": [
        {
          "output_type": "stream",
          "name": "stdout",
          "text": [
            "\n",
            "Shape of X_train_tfidf: (131792, 6000)\n",
            "Shape of X_test_tfidf: (32949, 6000)\n"
          ]
        }
      ],
      "execution_count": null
    },
    {
      "cell_type": "markdown",
      "source": [
        "### Class Weights"
      ],
      "metadata": {
        "id": "bquYN-6ZgmyN"
      }
    },
    {
      "cell_type": "code",
      "source": [
        "# Compute class weight to contrast class imbalance\n",
        "from sklearn.utils.class_weight import compute_class_weight\n",
        "\n",
        "classes = np.unique(y_train)\n",
        "class_weight = compute_class_weight(class_weight='balanced', classes=classes, y=y_train)\n",
        "class_weight = {label: weight for label, weight in zip(classes, class_weight)}\n",
        "\n",
        "print(\"Class Weight\")\n",
        "print(class_weight)"
      ],
      "metadata": {
        "trusted": true,
        "execution": {
          "iopub.status.busy": "2025-02-04T22:29:45.495638Z",
          "iopub.execute_input": "2025-02-04T22:29:45.495986Z",
          "iopub.status.idle": "2025-02-04T22:29:45.616461Z",
          "shell.execute_reply.started": "2025-02-04T22:29:45.495957Z",
          "shell.execute_reply": "2025-02-04T22:29:45.614989Z"
        },
        "id": "LhiC8uC1gmyN"
      },
      "outputs": [],
      "execution_count": null
    },
    {
      "cell_type": "markdown",
      "source": [
        "### Logistic Regression"
      ],
      "metadata": {
        "id": "QMxu19T-Q4bx"
      }
    },
    {
      "cell_type": "code",
      "source": [
        "# Importing the LogisticRegression class\n",
        "from sklearn.linear_model import LogisticRegression\n",
        "\n",
        "# Logistic Regression\n",
        "logistic_model = LogisticRegression(max_iter=1000, class_weight=class_weight, n_jobs=-1, random_state=42, verbose=verbose)\n",
        "\n",
        "# Fit the model on training data\n",
        "logistic_model.fit(X_train_tfidf, y_train)\n",
        "\n",
        "# Predict on test data\n",
        "y_test_pred_logistic = logistic_model.predict(X_test_tfidf)\n",
        "\n",
        "# Logistic Regression Results\n",
        "print(\"\\n[Logistic Regression]\")\n",
        "print(\"Test Accuracy:\", accuracy_score(y_test, y_test_pred_logistic))\n",
        "print(\"Classification Report:\\n\", classification_report(y_test, y_test_pred_logistic))\n",
        "\n",
        "# Show the heatmap\n",
        "sns.heatmap(confusion_matrix(y_test, y_test_pred_logistic), annot=True, fmt='d', cmap='Blues')\n",
        "plt.title(\"Confusion Matrix - Logistic Regression\")\n",
        "plt.show()"
      ],
      "metadata": {
        "id": "EDoao8mWbDAs",
        "trusted": true,
        "execution": {
          "iopub.status.busy": "2025-02-04T22:29:45.617419Z",
          "iopub.execute_input": "2025-02-04T22:29:45.617780Z",
          "iopub.status.idle": "2025-02-04T22:30:03.446242Z",
          "shell.execute_reply.started": "2025-02-04T22:29:45.617751Z",
          "shell.execute_reply": "2025-02-04T22:30:03.444617Z"
        }
      },
      "outputs": [],
      "execution_count": null
    },
    {
      "cell_type": "markdown",
      "source": [],
      "metadata": {
        "id": "LqV3gGNmqbXB"
      }
    },
    {
      "cell_type": "markdown",
      "source": [
        "## Dataset Preprocessing"
      ],
      "metadata": {
        "id": "JU2bcr_hqb3c"
      }
    },
    {
      "cell_type": "code",
      "source": [
        "# Drop rows where any column has missing values\n",
        "train = train.dropna()\n",
        "test = test.dropna()"
      ],
      "metadata": {
        "trusted": true,
        "execution": {
          "iopub.status.busy": "2025-02-04T22:28:17.396796Z",
          "iopub.execute_input": "2025-02-04T22:28:17.397276Z",
          "iopub.status.idle": "2025-02-04T22:28:17.450796Z",
          "shell.execute_reply.started": "2025-02-04T22:28:17.397231Z",
          "shell.execute_reply": "2025-02-04T22:28:17.449509Z"
        },
        "id": "XtsZS8Waqb3d"
      },
      "outputs": [],
      "execution_count": null
    },
    {
      "cell_type": "code",
      "source": [
        "# Plotting class distribution\n",
        "plt.figure(figsize=(6, 4))\n",
        "sns.countplot(data=train, x='Sentiment Type', palette='viridis')\n",
        "plt.title('Sentiment Type Distribution')\n",
        "plt.xlabel('Sentiment Type')\n",
        "plt.ylabel('Count')\n",
        "plt.show()"
      ],
      "metadata": {
        "colab": {
          "base_uri": "https://localhost:8080/",
          "height": 419
        },
        "outputId": "f1c97c16-0d8d-4984-9c0e-04a1c2c7f300",
        "trusted": true,
        "execution": {
          "iopub.status.busy": "2025-02-04T22:28:17.453465Z",
          "iopub.execute_input": "2025-02-04T22:28:17.453833Z",
          "iopub.status.idle": "2025-02-04T22:28:17.757625Z",
          "shell.execute_reply.started": "2025-02-04T22:28:17.453803Z",
          "shell.execute_reply": "2025-02-04T22:28:17.756507Z"
        },
        "id": "1DH7Ib2Kqb3d"
      },
      "outputs": [
        {
          "output_type": "display_data",
          "data": {
            "text/plain": [
              "<Figure size 600x400 with 1 Axes>"
            ],
            "image/png": "[encoded data removed]"
          },
          "metadata": {}
        }
      ],
      "execution_count": null
    },
    {
      "cell_type": "code",
      "source": [
        "# Remove contractions\n",
        "def contractions(s):\n",
        "    s = re.sub(r\"won't\", \"will not\", s, flags=re.IGNORECASE)\n",
        "    s = re.sub(r\"wouldn't\", \"would not\", s, flags=re.IGNORECASE)\n",
        "    s = re.sub(r\"couldn't\", \"could not\", s, flags=re.IGNORECASE)\n",
        "    s = re.sub(r\"\\’d\", \" would\", s, flags=re.IGNORECASE)\n",
        "    s = re.sub(r\"can't\", \"can not\", s, flags=re.IGNORECASE)\n",
        "    s = re.sub(r\"n’t\", \" not\", s, flags=re.IGNORECASE)\n",
        "    s = re.sub(r\"\\’re\", \" are\", s, flags=re.IGNORECASE)\n",
        "    s = re.sub(r\"\\’s\", \" is\", s, flags=re.IGNORECASE)\n",
        "    s = re.sub(r\"\\’ll\", \" will\", s, flags=re.IGNORECASE)\n",
        "    s = re.sub(r\"\\’t\", \" not\", s, flags=re.IGNORECASE)\n",
        "    s = re.sub(r\"\\’ve\", \" have\", s, flags=re.IGNORECASE)\n",
        "    s = re.sub(r\"\\’m\", \" am\", s, flags=re.IGNORECASE)\n",
        "    return s\n",
        "\n",
        "# Apply the function\n",
        "train['Body'] = train['Body'].apply(lambda x: contractions(x))\n",
        "test['Post Content'] = test['Post Content'].apply(lambda x: contractions(x))"
      ],
      "metadata": {
        "trusted": true,
        "execution": {
          "iopub.status.busy": "2025-02-04T22:28:17.759297Z",
          "iopub.execute_input": "2025-02-04T22:28:17.759637Z",
          "iopub.status.idle": "2025-02-04T22:28:21.579723Z",
          "shell.execute_reply.started": "2025-02-04T22:28:17.759609Z",
          "shell.execute_reply": "2025-02-04T22:28:21.578747Z"
        },
        "id": "8GipdpG2qb3e"
      },
      "outputs": [],
      "execution_count": null
    },
    {
      "cell_type": "code",
      "source": [
        "# Remove non-alpha characters\n",
        "train['Body'] = train['Body'].apply(lambda x: \" \".join([re.sub('[^A-Za-z]+','', x) for x in nltk.word_tokenize(x)]))\n",
        "test['Post Content'] = test['Post Content'].apply(lambda x: \" \".join([re.sub('[^A-Za-z]+','', x) for x in nltk.word_tokenize(x)]))"
      ],
      "metadata": {
        "trusted": true,
        "execution": {
          "iopub.status.busy": "2025-02-04T22:28:21.580744Z",
          "iopub.execute_input": "2025-02-04T22:28:21.581130Z",
          "iopub.status.idle": "2025-02-04T22:28:51.577964Z",
          "shell.execute_reply.started": "2025-02-04T22:28:21.581082Z",
          "shell.execute_reply": "2025-02-04T22:28:51.576661Z"
        },
        "id": "7aG7Gycaqb3e"
      },
      "outputs": [],
      "execution_count": null
    },
    {
      "cell_type": "code",
      "source": [
        "# Remove the extra spaces between the words\n",
        "train['Body'] = train['Body'].apply(lambda x: re.sub(' +', ' ', x))\n",
        "test['Post Content'] = test['Post Content'].apply(lambda x: re.sub(' +', ' ', x))"
      ],
      "metadata": {
        "trusted": true,
        "execution": {
          "iopub.status.busy": "2025-02-04T22:28:51.579189Z",
          "iopub.execute_input": "2025-02-04T22:28:51.579541Z",
          "iopub.status.idle": "2025-02-04T22:28:52.918292Z",
          "shell.execute_reply.started": "2025-02-04T22:28:51.579511Z",
          "shell.execute_reply": "2025-02-04T22:28:52.917149Z"
        },
        "id": "hJWC09jyqb3e"
      },
      "outputs": [],
      "execution_count": null
    },
    {
      "cell_type": "code",
      "source": [
        "# Remove the stop words by using the NLTK package\n",
        "from nltk.corpus import stopwords\n",
        "\n",
        "stop = stopwords.words('english')\n",
        "train['Body'] = train['Body'].apply(lambda x: \" \".join([x for x in x.split() if x not in stop]))\n",
        "test['Post Content'] = test['Post Content'].apply(lambda x: \" \".join([x for x in x.split() if x not in stop]))"
      ],
      "metadata": {
        "trusted": true,
        "execution": {
          "iopub.status.busy": "2025-02-04T22:28:52.919412Z",
          "iopub.execute_input": "2025-02-04T22:28:52.919782Z",
          "iopub.status.idle": "2025-02-04T22:29:00.950698Z",
          "shell.execute_reply.started": "2025-02-04T22:28:52.919738Z",
          "shell.execute_reply": "2025-02-04T22:29:00.949332Z"
        },
        "id": "GJigOPFsqb3e"
      },
      "outputs": [],
      "execution_count": null
    },
    {
      "cell_type": "code",
      "source": [
        "# Perform lemmatization using the wordnet lemmatizer\n",
        "from nltk.stem import WordNetLemmatizer\n",
        "\n",
        "lemmatizer = WordNetLemmatizer()\n",
        "train['Body'] = train['Body'].apply(lambda x: \" \".join([lemmatizer.lemmatize(w) for w in nltk.word_tokenize(x)]))\n",
        "test['Post Content'] = test['Post Content'].apply(lambda x: \" \".join([lemmatizer.lemmatize(w) for w in nltk.word_tokenize(x)]))"
      ],
      "metadata": {
        "trusted": true,
        "execution": {
          "iopub.status.busy": "2025-02-04T22:29:00.951559Z",
          "iopub.execute_input": "2025-02-04T22:29:00.951898Z",
          "iopub.status.idle": "2025-02-04T22:29:34.462538Z",
          "shell.execute_reply.started": "2025-02-04T22:29:00.951867Z",
          "shell.execute_reply": "2025-02-04T22:29:34.460925Z"
        },
        "id": "ysfwCqCMqb3f"
      },
      "outputs": [],
      "execution_count": null
    },
    {
      "cell_type": "code",
      "source": [
        "# Dividi il dataset in training e test set\n",
        "from sklearn.model_selection import train_test_split\n",
        "\n",
        "X = train['Body']\n",
        "y = train['Sentiment Type']\n",
        "\n",
        "# Dividiamo i dati in training e test set (80% training, 20% test)\n",
        "X_train, X_test, y_train, y_test = train_test_split(X, y, test_size=0.2, random_state=42, shuffle=True)"
      ],
      "metadata": {
        "trusted": true,
        "execution": {
          "iopub.status.busy": "2025-02-04T22:29:34.463780Z",
          "iopub.execute_input": "2025-02-04T22:29:34.464120Z",
          "iopub.status.idle": "2025-02-04T22:29:34.562340Z",
          "shell.execute_reply.started": "2025-02-04T22:29:34.464089Z",
          "shell.execute_reply": "2025-02-04T22:29:34.561104Z"
        },
        "id": "VpV--zjjqb3f"
      },
      "outputs": [],
      "execution_count": null
    },
    {
      "cell_type": "code",
      "source": [
        "# Feature Extraction using TF-IDF\n",
        "from sklearn.feature_extraction.text import TfidfVectorizer\n",
        "\n",
        "# Init the TfidfVectorizer\n",
        "tfidf_vectorizer = TfidfVectorizer(max_features=6000, ngram_range=(1, 2))\n",
        "\n",
        "# Apply TF-IDF to vectorize the text\n",
        "X_train_tfidf = tfidf_vectorizer.fit_transform(X_train)\n",
        "X_test_tfidf = tfidf_vectorizer.transform(X_test)\n",
        "\n",
        "print(\"\\nShape of X_train_tfidf:\", X_train_tfidf.shape)\n",
        "print(\"Shape of X_test_tfidf:\", X_test_tfidf.shape)"
      ],
      "metadata": {
        "colab": {
          "base_uri": "https://localhost:8080/"
        },
        "outputId": "023b6dda-cb92-49b8-e267-7bcdc60ec15a",
        "trusted": true,
        "execution": {
          "iopub.status.busy": "2025-02-04T22:29:34.563677Z",
          "iopub.execute_input": "2025-02-04T22:29:34.564001Z",
          "iopub.status.idle": "2025-02-04T22:29:45.494446Z",
          "shell.execute_reply.started": "2025-02-04T22:29:34.563971Z",
          "shell.execute_reply": "2025-02-04T22:29:45.493262Z"
        },
        "id": "Cv4MmRGjqb3f"
      },
      "outputs": [
        {
          "output_type": "stream",
          "name": "stdout",
          "text": [
            "\n",
            "Shape of X_train_tfidf: (131792, 6000)\n",
            "Shape of X_test_tfidf: (32949, 6000)\n"
          ]
        }
      ],
      "execution_count": null
    },
    {
      "cell_type": "markdown",
      "source": [
        "### Random Forest"
      ],
      "metadata": {
        "id": "tv6zvmBxQ_DF"
      }
    },
    {
      "cell_type": "code",
      "source": [
        "# Importing the RandomForestClassifier class\n",
        "from sklearn.ensemble import RandomForestClassifier\n",
        "\n",
        "# Random Forest\n",
        "rf_model = RandomForestClassifier(n_estimators=256, max_depth=96, class_weight=class_weight, n_jobs=-1, random_state=42, verbose=verbose)\n",
        "\n",
        "# Fit the model on training data\n",
        "rf_model.fit(X_train_tfidf, y_train)\n",
        "\n",
        "# Predict on test data\n",
        "y_test_pred_rf = rf_model.predict(X_test_tfidf)\n",
        "\n",
        "# Random Forest Results\n",
        "print(\"\\n[Random Forest]\")\n",
        "print(\"Test Accuracy:\", accuracy_score(y_test, y_test_pred_rf))\n",
        "print(\"Classification Report (Test Data):\\n\", classification_report(y_test, y_test_pred_rf))\n",
        "\n",
        "# Show the heatmap\n",
        "sns.heatmap(confusion_matrix(y_test, y_test_pred_rf), annot=True, fmt='d', cmap='Greens')\n",
        "plt.title(\"Confusion Matrix - Random Forest (Test Data)\")\n",
        "plt.show()"
      ],
      "metadata": {
        "colab": {
          "base_uri": "https://localhost:8080/",
          "height": 839
        },
        "id": "1S_oOJ_gOyhe",
        "outputId": "f9538bce-f883-4e30-8d36-d95f0e21b037",
        "trusted": true,
        "execution": {
          "iopub.status.busy": "2025-02-04T22:30:03.448227Z",
          "iopub.execute_input": "2025-02-04T22:30:03.448849Z",
          "iopub.status.idle": "2025-02-04T22:32:03.766172Z",
          "shell.execute_reply.started": "2025-02-04T22:30:03.448790Z",
          "shell.execute_reply": "2025-02-04T22:32:03.764989Z"
        }
      },
      "outputs": [
        {
          "output_type": "stream",
          "name": "stderr",
          "text": [
            "[Parallel(n_jobs=-1)]: Using backend ThreadingBackend with 2 concurrent workers.\n",
            "[Parallel(n_jobs=-1)]: Done  46 tasks      | elapsed:   55.1s\n",
            "[Parallel(n_jobs=-1)]: Done 196 tasks      | elapsed:  4.0min\n",
            "[Parallel(n_jobs=-1)]: Done 256 out of 256 | elapsed:  5.3min finished\n",
            "[Parallel(n_jobs=2)]: Using backend ThreadingBackend with 2 concurrent workers.\n",
            "[Parallel(n_jobs=2)]: Done  46 tasks      | elapsed:    0.5s\n",
            "[Parallel(n_jobs=2)]: Done 196 tasks      | elapsed:    2.9s\n",
            "[Parallel(n_jobs=2)]: Done 256 out of 256 | elapsed:    3.8s finished\n"
          ]
        },
        {
          "output_type": "stream",
          "name": "stdout",
          "text": [
            "\n",
            "[Random Forest]\n",
            "Test Accuracy: 0.7986888828189019\n",
            "Classification Report (Test Data):\n",
            "               precision    recall  f1-score   support\n",
            "\n",
            "    negative       0.80      0.64      0.71      7070\n",
            "     neutral       0.72      0.96      0.82     11199\n",
            "    positive       0.90      0.75      0.82     14680\n",
            "\n",
            "    accuracy                           0.80     32949\n",
            "   macro avg       0.81      0.78      0.78     32949\n",
            "weighted avg       0.82      0.80      0.80     32949\n",
            "\n"
          ]
        },
        {
          "output_type": "display_data",
          "data": {
            "text/plain": [
              "<Figure size 640x480 with 2 Axes>"
            ],
            "image/png": "[encoded data removed]"
          },
          "metadata": {}
        }
      ],
      "execution_count": null
    }
  ]
}